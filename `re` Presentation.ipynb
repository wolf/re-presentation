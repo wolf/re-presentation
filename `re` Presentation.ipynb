{
 "cells": [
  {
   "cell_type": "markdown",
   "metadata": {},
   "source": [
    "## documentation\n",
    "\n",
    "* This presentation: [https://github.com/wolf/re-presentation](https://github.com/wolf/re-presentation)\n",
    "* Online regex tester and debugger [regular expressions 101](https://regex101.com)\n",
    "* [re module documentation](https://docs.python.org/3.7/library/re.html)\n",
    "* third party [regex module homepage](https://bitbucket.org/mrabarnett/mrab-regex)\n",
    "* by Jeffrey Friedl: [\"Mastering Regular Expressions\" First Edition](https://www.amazon.com/Mastering-Regular-Expressions-Techniques-Handbooks/dp/1565922573) (covers Python) [Third Edition](https://www.amazon.com/Mastering-Regular-Expressions-Jeffrey-Friedl/dp/0596528124) (does *not* cover Python)"
   ]
  },
  {
   "cell_type": "code",
   "execution_count": 1,
   "metadata": {},
   "outputs": [],
   "source": [
    "import re"
   ]
  },
  {
   "cell_type": "markdown",
   "metadata": {},
   "source": [
    "## regular expressions themselves\n",
    "\n",
    "### what is a regular expression?\n",
    "\n",
    "A regular expression is a formal description of a set of strings and a well-known collection of rules to know if any given string is *in* that set.  If a string is in the set, the regular expression is said to *match* that string.  The formal description is often referred to as the *pattern*.  The `re` module has a function to test if a regular expression matches a string: `re.match(pattern, string)`.  It actually has a couple others as well.\n",
    "\n",
    "This document is about regular expressions (sometimes called regexes) and the `re` module from Python 3.7.  Most of it applies to earlier versions of Python but your mileage may vary.\n",
    "\n",
    "### where will you use regular expressions?\n",
    "\n",
    "* In your favorite editor for find and replace\n",
    "* In Python code (or any other language, really)\n",
    "* In `grep`, `sed`, and `awk`\n",
    "* When writing compilers, so with `flex`, `lex`, and `re2c`\n",
    "* In full-text database searches\n",
    "* When trying to understand other people's code\n",
    "* To impress your friends at parties"
   ]
  },
  {
   "cell_type": "code",
   "execution_count": 2,
   "metadata": {},
   "outputs": [],
   "source": [
    "from termcolor import colored\n",
    "\n",
    "def demo(pattern, match_against, fn=None, show_location=False):\n",
    "    \"\"\"demo is built around re.match, but applied to a list of strings\n",
    "       instead of a single string; and it prints a message for each, appropriate\n",
    "       to a demonstration.  It uses colors and bold to make things nice.\n",
    "       It's really *mostly* about printing.\n",
    "    \"\"\"\n",
    "    compiled_pattern = re.compile(pattern)  # don't really need to do this, but it's good form\n",
    "    if isinstance(match_against, str):  # OK, it takes a list, but if you give it a single string it still works\n",
    "        match_against = [ match_against ]\n",
    "    if fn is None:\n",
    "        fn = re.match\n",
    "    else:\n",
    "        show_location = True\n",
    "        print(f'using re.{fn.__name__}, the pattern ', end='')\n",
    "\n",
    "    print(colored(f'{pattern}', 'blue', 'on_yellow', attrs=['bold']))\n",
    "    for string in match_against:\n",
    "        match = fn(pattern=compiled_pattern, string=string)\n",
    "        if match:\n",
    "            location_info = ''\n",
    "            r = match.span()\n",
    "            if show_location:\n",
    "                location_info = f'at {r[0]}-{r[1]} of '\n",
    "            print(f'  matches {location_info}', end='')\n",
    "            \n",
    "            print(colored(f'{string[:r[0]]}', 'green'), end='')\n",
    "            print(colored(f'{string[r[0]:r[1]]}', 'green', attrs=['bold']), end='')\n",
    "            print(colored(f'{string[r[1]:]}', 'green'))\n",
    "        else:\n",
    "            print(f'  does *not* match ', end='')\n",
    "            print(colored(f'{string}', 'red'))\n",
    "    print()"
   ]
  },
  {
   "cell_type": "markdown",
   "metadata": {},
   "source": [
    "As we progress, the patterns will look more and more complicated.  Don't be intimidated!"
   ]
  },
  {
   "cell_type": "code",
   "execution_count": 3,
   "metadata": {},
   "outputs": [
    {
     "name": "stdout",
     "output_type": "stream",
     "text": [
      "The pattern \"cat\" matches the string \"cat\"\n",
      "\u001b[1m\u001b[43m\u001b[34mcat\u001b[0m\n",
      "  does *not* match \u001b[31mdog\u001b[0m\n",
      "\n"
     ]
    }
   ],
   "source": [
    "# Simple characters like 'c', 'a', or 't', match themselves\n",
    "# Note that I specified the pattern as a raw string... make that a habit for yourself\n",
    "if re.match(pattern=r'cat', string='cat'):\n",
    "    print('The pattern \"cat\" matches the string \"cat\"')\n",
    "\n",
    "demo(pattern=r'cat', match_against='dog')"
   ]
  },
  {
   "cell_type": "markdown",
   "metadata": {},
   "source": [
    "`re.match` actually only tests that the string *starts* with a match.  Later we'll talk about `re.search` and `re.fullmatch`."
   ]
  },
  {
   "cell_type": "code",
   "execution_count": 4,
   "metadata": {},
   "outputs": [
    {
     "name": "stdout",
     "output_type": "stream",
     "text": [
      "\u001b[1m\u001b[43m\u001b[34mcat\u001b[0m\n",
      "  matches \u001b[32m\u001b[0m\u001b[1m\u001b[32mcat\u001b[0m\u001b[32mch\u001b[0m\n",
      "\n"
     ]
    }
   ],
   "source": [
    "demo(pattern=r'cat', match_against='catch')"
   ]
  },
  {
   "cell_type": "markdown",
   "metadata": {},
   "source": [
    "#### character classes or sets"
   ]
  },
  {
   "cell_type": "code",
   "execution_count": 5,
   "metadata": {
    "scrolled": true
   },
   "outputs": [
    {
     "name": "stdout",
     "output_type": "stream",
     "text": [
      "\u001b[1m\u001b[43m\u001b[34mc[aou]t\u001b[0m\n",
      "  matches \u001b[32m\u001b[0m\u001b[1m\u001b[32mcat\u001b[0m\u001b[32m\u001b[0m\n",
      "  matches \u001b[32m\u001b[0m\u001b[1m\u001b[32mcot\u001b[0m\u001b[32me\u001b[0m\n",
      "  matches \u001b[32m\u001b[0m\u001b[1m\u001b[32mcut\u001b[0m\u001b[32me\u001b[0m\n",
      "  does *not* match \u001b[31mcity\u001b[0m\n",
      "\n"
     ]
    }
   ],
   "source": [
    "# Using a simple set: [aou]\n",
    "demo(pattern=r'c[aou]t', match_against=['cat', 'cote', 'cute', 'city'])"
   ]
  },
  {
   "cell_type": "code",
   "execution_count": 6,
   "metadata": {},
   "outputs": [
    {
     "name": "stdout",
     "output_type": "stream",
     "text": [
      "\u001b[1m\u001b[43m\u001b[34mc[^y]t\u001b[0m\n",
      "  matches \u001b[32m\u001b[0m\u001b[1m\u001b[32mcat\u001b[0m\u001b[32m\u001b[0m\n",
      "  matches \u001b[32m\u001b[0m\u001b[1m\u001b[32mcot\u001b[0m\u001b[32me\u001b[0m\n",
      "  does *not* match \u001b[31mcytoplasm\u001b[0m\n",
      "  matches \u001b[32m\u001b[0m\u001b[1m\u001b[32mcct\u001b[0m\u001b[32mv\u001b[0m\n",
      "\n"
     ]
    }
   ],
   "source": [
    "# Inverting a set: [^y]\n",
    "demo(r'c[^y]t', ['cat', 'cote', 'cytoplasm', 'cctv'])"
   ]
  },
  {
   "cell_type": "code",
   "execution_count": 7,
   "metadata": {},
   "outputs": [
    {
     "name": "stdout",
     "output_type": "stream",
     "text": [
      "\u001b[1m\u001b[43m\u001b[34m0x[a-f0-9]\u001b[0m\n",
      "  matches \u001b[32m\u001b[0m\u001b[1m\u001b[32m0x2\u001b[0m\u001b[32m\u001b[0m\n",
      "  matches \u001b[32m\u001b[0m\u001b[1m\u001b[32m0xc\u001b[0m\u001b[32m\u001b[0m\n",
      "  does *not* match \u001b[31m0xq\u001b[0m\n",
      "\n"
     ]
    }
   ],
   "source": [
    "# Using ranges: [a-f0-9]\n",
    "demo(r'0x[a-f0-9]', ['0x2', '0xc', '0xq'])"
   ]
  },
  {
   "cell_type": "code",
   "execution_count": 8,
   "metadata": {},
   "outputs": [
    {
     "name": "stdout",
     "output_type": "stream",
     "text": [
      "\u001b[1m\u001b[43m\u001b[34m\\d\\d\\d-\\d\\d\\d\\d\u001b[0m\n",
      "  does *not* match \u001b[31m555-12q2\u001b[0m\n",
      "  does *not* match \u001b[31m411\u001b[0m\n",
      "  matches \u001b[32m\u001b[0m\u001b[1m\u001b[32m867-5309\u001b[0m\u001b[32m\u001b[0m\n",
      "\n",
      "\u001b[1m\u001b[43m\u001b[34m\\d\\d\\d-\\d\\d.\\d\u001b[0m\n",
      "  matches \u001b[32m\u001b[0m\u001b[1m\u001b[32m555-12q2\u001b[0m\u001b[32m\u001b[0m\n",
      "  does *not* match \u001b[31m411\u001b[0m\n",
      "  matches \u001b[32m\u001b[0m\u001b[1m\u001b[32m867-5309\u001b[0m\u001b[32m\u001b[0m\n",
      "\n"
     ]
    }
   ],
   "source": [
    "# Using shortcut: \\d == [0-9]; . == [^\\n]\n",
    "demo(r'\\d\\d\\d-\\d\\d\\d\\d', ['555-12q2', '411', '867-5309'])\n",
    "demo(r'\\d\\d\\d-\\d\\d.\\d', ['555-12q2', '411', '867-5309'])"
   ]
  },
  {
   "cell_type": "markdown",
   "metadata": {},
   "source": [
    "#### repetition"
   ]
  },
  {
   "cell_type": "code",
   "execution_count": 9,
   "metadata": {
    "scrolled": true
   },
   "outputs": [
    {
     "name": "stdout",
     "output_type": "stream",
     "text": [
      "\u001b[1m\u001b[43m\u001b[34m\\d{3}-\\d{4}\u001b[0m\n",
      "  does *not* match \u001b[31m555-12q2\u001b[0m\n",
      "  does *not* match \u001b[31m411\u001b[0m\n",
      "  matches \u001b[32m\u001b[0m\u001b[1m\u001b[32m867-5309\u001b[0m\u001b[32m\u001b[0m\n",
      "\n",
      "\u001b[1m\u001b[43m\u001b[34m=\\w{3,5}=\u001b[0m\n",
      "  matches \u001b[32m\u001b[0m\u001b[1m\u001b[32m=cat=\u001b[0m\u001b[32m\u001b[0m\n",
      "  matches \u001b[32m\u001b[0m\u001b[1m\u001b[32m=catch=\u001b[0m\u001b[32m\u001b[0m\n",
      "  matches \u001b[32m\u001b[0m\u001b[1m\u001b[32m=dogs=\u001b[0m\u001b[32m\u001b[0m\n",
      "  does *not* match \u001b[31m=catchy=\u001b[0m\n",
      "  does *not* match \u001b[31m=my=\u001b[0m\n",
      "\n"
     ]
    }
   ],
   "source": [
    "# {min, max}, note that \\w == [a-zA-Z0-9_] (at least for ASCII)\n",
    "demo(r'\\d{3}-\\d{4}', ['555-12q2', '411', '867-5309'])\n",
    "demo(r'=\\w{3,5}=', ['=cat=', '=catch=', '=dogs=', '=catchy=', '=my='])"
   ]
  },
  {
   "cell_type": "code",
   "execution_count": 10,
   "metadata": {},
   "outputs": [
    {
     "name": "stdout",
     "output_type": "stream",
     "text": [
      "\u001b[1m\u001b[43m\u001b[34m\\d+\\s*-?\\s*\\d*\u001b[0m\n",
      "  matches at 0-9 of \u001b[32m\u001b[0m\u001b[1m\u001b[32m555-\t1212\u001b[0m\u001b[32m\u001b[0m\n",
      "  matches at 0-3 of \u001b[32m\u001b[0m\u001b[1m\u001b[32m411\u001b[0m\u001b[32m\u001b[0m\n",
      "  matches at 0-6 of \u001b[32m\u001b[0m\u001b[1m\u001b[32m12345-\u001b[0m\u001b[32mabc\u001b[0m\n",
      "\n"
     ]
    }
   ],
   "source": [
    "# shortcuts for repetition\n",
    "# ?, +, *, Note that \\s is whitespace\n",
    "# ? == {0,1}, + == {1,}, * == {0,}\n",
    "demo(r'\\d+\\s*-?\\s*\\d*', ['555-\\t1212', '411', '12345-abc'], show_location=True)"
   ]
  },
  {
   "cell_type": "markdown",
   "metadata": {},
   "source": [
    "#### alternation"
   ]
  },
  {
   "cell_type": "code",
   "execution_count": 11,
   "metadata": {},
   "outputs": [
    {
     "name": "stdout",
     "output_type": "stream",
     "text": [
      "\u001b[1m\u001b[43m\u001b[34mcat|dog\u001b[0m\n",
      "  matches \u001b[32m\u001b[0m\u001b[1m\u001b[32mcat\u001b[0m\u001b[32mchy\u001b[0m\n",
      "  matches \u001b[32m\u001b[0m\u001b[1m\u001b[32mdog\u001b[0m\u001b[32m-lover\u001b[0m\n",
      "  does *not* match \u001b[31mapple pie\u001b[0m\n",
      "\n"
     ]
    }
   ],
   "source": [
    "# binds lower than other operators, so cat|dog does what it looks like\n",
    "demo(r'cat|dog', ['catchy', 'dog-lover', 'apple pie'])"
   ]
  },
  {
   "cell_type": "markdown",
   "metadata": {},
   "source": [
    "#### groups"
   ]
  },
  {
   "cell_type": "code",
   "execution_count": 12,
   "metadata": {},
   "outputs": [
    {
     "name": "stdout",
     "output_type": "stream",
     "text": [
      "\u001b[1m\u001b[43m\u001b[34m\\d{3}(-\\d{4})?\u001b[0m\n",
      "  matches \u001b[32m\u001b[0m\u001b[1m\u001b[32m555-1212\u001b[0m\u001b[32m\u001b[0m\n",
      "  matches \u001b[32m\u001b[0m\u001b[1m\u001b[32m411\u001b[0m\u001b[32m\u001b[0m\n",
      "\n",
      "\u001b[1m\u001b[43m\u001b[34m(\\w+) \\1\u001b[0m\n",
      "  does *not* match \u001b[31mabc def\u001b[0m\n",
      "  matches \u001b[32m\u001b[0m\u001b[1m\u001b[32mabc abc\u001b[0m\u001b[32m\u001b[0m\n",
      "\n",
      "\u001b[1m\u001b[43m\u001b[34mhref=([\\'\\\"]).*?\\1\u001b[0m\n",
      "  matches \u001b[32m\u001b[0m\u001b[1m\u001b[32mhref=\"hello\"\u001b[0m\u001b[32m\u001b[0m\n",
      "  matches \u001b[32m\u001b[0m\u001b[1m\u001b[32mhref='goodbye'\u001b[0m\u001b[32m\u001b[0m\n",
      "  does *not* match \u001b[31mhref='abc\"\u001b[0m\n",
      "\n"
     ]
    }
   ],
   "source": [
    "# the default kind of group, capturing, is specified with simple parens\n",
    "demo(r'\\d{3}(-\\d{4})?', ['555-1212', '411'])\n",
    "\n",
    "# When you've captured a group, you can reference it later with a backslash\n",
    "demo(r'(\\w+) \\1', ['abc def', 'abc abc'])\n",
    "demo(r'href=([\\'\\\"]).*?\\1', ['href=\"hello\"', 'href=\\'goodbye\\'', 'href=\\'abc\"'])\n",
    "# note the non-greedy '.*?' -- that gets the shortest matching string instead of the longest"
   ]
  },
  {
   "cell_type": "code",
   "execution_count": 13,
   "metadata": {},
   "outputs": [
    {
     "name": "stdout",
     "output_type": "stream",
     "text": [
      "\u001b[1m\u001b[43m\u001b[34m(?:\\d+-)?(\\d{4})\u001b[0m\n",
      "  matches \u001b[32m\u001b[0m\u001b[1m\u001b[32m555-1212\u001b[0m\u001b[32m\u001b[0m\n",
      "  matches \u001b[32m\u001b[0m\u001b[1m\u001b[32m4501\u001b[0m\u001b[32m\u001b[0m\n",
      "\n",
      "\u001b[1m\u001b[43m\u001b[34m(?x)  # verbose mode\n",
      "    \\d{3}          # prefix\n",
      "    ( - \\d{4} )?   # optional\u001b[0m\n",
      "  matches \u001b[32m\u001b[0m\u001b[1m\u001b[32m555-1212\u001b[0m\u001b[32m\u001b[0m\n",
      "  matches \u001b[32m\u001b[0m\u001b[1m\u001b[32m411\u001b[0m\u001b[32m\u001b[0m\n",
      "\n"
     ]
    }
   ],
   "source": [
    "# special groups start with a '?' just inside the left paren\n",
    "# (?:...) is a non-capturing group\n",
    "demo(r'(?:\\d+-)?(\\d{4})', ['555-1212', '4501'])\n",
    "\n",
    "# 'x' is the verbose flag, this is a flag-setting group\n",
    "# verbose mode lets me break apart the regex, even onto multiple lines\n",
    "demo(r'''(?x)  # verbose mode\n",
    "    \\d{3}          # prefix\n",
    "    ( - \\d{4} )?   # optional''', ['555-1212', '411'])"
   ]
  },
  {
   "cell_type": "code",
   "execution_count": 14,
   "metadata": {},
   "outputs": [
    {
     "name": "stdout",
     "output_type": "stream",
     "text": [
      "\u001b[1m\u001b[43m\u001b[34m(?i)abcXYZ\u001b[0m\n",
      "  matches \u001b[32m\u001b[0m\u001b[1m\u001b[32mabcxyz\u001b[0m\u001b[32m\u001b[0m\n",
      "  matches \u001b[32m\u001b[0m\u001b[1m\u001b[32mAbCXYz\u001b[0m\u001b[32m\u001b[0m\n",
      "\n",
      "\u001b[1m\u001b[43m\u001b[34m(?i:abc)XYZ\u001b[0m\n",
      "  does *not* match \u001b[31mabcxyz\u001b[0m\n",
      "  matches \u001b[32m\u001b[0m\u001b[1m\u001b[32mabcXYZ\u001b[0m\u001b[32m\u001b[0m\n",
      "  matches \u001b[32m\u001b[0m\u001b[1m\u001b[32mABCXYZ\u001b[0m\u001b[32m\u001b[0m\n",
      "\n"
     ]
    }
   ],
   "source": [
    "# setting flags for the whole pattern, for just a portion of the pattern\n",
    "# the 'i' flag makes the pattern case-insensitive\n",
    "demo(r'(?i)abcXYZ', ['abcxyz', 'AbCXYz'])\n",
    "demo(r'(?i:abc)XYZ', ['abcxyz', 'abcXYZ', 'ABCXYZ'])"
   ]
  },
  {
   "cell_type": "code",
   "execution_count": 15,
   "metadata": {},
   "outputs": [
    {
     "name": "stdout",
     "output_type": "stream",
     "text": [
      "\u001b[1m\u001b[43m\u001b[34mIsaac(?=\\s+Asimov)\u001b[0m\n",
      "  does *not* match \u001b[31mIsaac Newton\u001b[0m\n",
      "  matches at 0-5 of \u001b[32m\u001b[0m\u001b[1m\u001b[32mIsaac\u001b[0m\u001b[32m Asimov\u001b[0m\n",
      "\n",
      "\u001b[1m\u001b[43m\u001b[34mIsaac(?!\\s+Newton)\u001b[0m\n",
      "  does *not* match \u001b[31mIsaac Newton\u001b[0m\n",
      "  matches at 0-5 of \u001b[32m\u001b[0m\u001b[1m\u001b[32mIsaac\u001b[0m\u001b[32m Asimov\u001b[0m\n",
      "\n",
      "using re.search, the pattern \u001b[1m\u001b[43m\u001b[34m(?<!particle)-physics\u001b[0m\n",
      "  matches at 7-15 of \u001b[32mnuclear\u001b[0m\u001b[1m\u001b[32m-physics\u001b[0m\u001b[32m\u001b[0m\n",
      "  does *not* match \u001b[31mparticle-physics\u001b[0m\n",
      "\n",
      "using re.search, the pattern \u001b[1m\u001b[43m\u001b[34m(?<=nuclear)-physics\u001b[0m\n",
      "  matches at 7-15 of \u001b[32mnuclear\u001b[0m\u001b[1m\u001b[32m-physics\u001b[0m\u001b[32m\u001b[0m\n",
      "  does *not* match \u001b[31mparticle-physics\u001b[0m\n",
      "\n"
     ]
    }
   ],
   "source": [
    "# assertions, positive and negative look-ahead (specialized groups)\n",
    "# `re.match`: the pattern must match at the beginning of the string;\n",
    "# `re.search`: the pattern can match anywhere inside the string\n",
    "demo(r'Isaac(?=\\s+Asimov)', ['Isaac Newton', 'Isaac Asimov'], show_location=True)\n",
    "demo(r'Isaac(?!\\s+Newton)', ['Isaac Newton', 'Isaac Asimov'], show_location=True)\n",
    "demo(r'(?<!particle)-physics', ['nuclear-physics', 'particle-physics'], fn=re.search)\n",
    "demo(r'(?<=nuclear)-physics', ['nuclear-physics', 'particle-physics'], fn=re.search)"
   ]
  },
  {
   "cell_type": "markdown",
   "metadata": {},
   "source": [
    "#### special matches\n",
    "\n",
    "Look-ahead and look-behind are a special form of match instruction called an 'assertion'.  They match zero characters, but still influence where the actual match can happen.  Here are a couple of other zero-length assertions:"
   ]
  },
  {
   "cell_type": "code",
   "execution_count": 16,
   "metadata": {},
   "outputs": [
    {
     "name": "stdout",
     "output_type": "stream",
     "text": [
      "\u001b[1m\u001b[43m\u001b[34mcat\\b\u001b[0m\n",
      "  matches at 0-3 of \u001b[32m\u001b[0m\u001b[1m\u001b[32mcat\u001b[0m\u001b[32m\u001b[0m\n",
      "  does *not* match \u001b[31mcatchy\u001b[0m\n",
      "  matches at 0-3 of \u001b[32m\u001b[0m\u001b[1m\u001b[32mcat\u001b[0m\u001b[32m-call\u001b[0m\n",
      "\n",
      "\u001b[1m\u001b[43m\u001b[34mcat\\B\u001b[0m\n",
      "  does *not* match \u001b[31mcat\u001b[0m\n",
      "  matches at 0-3 of \u001b[32m\u001b[0m\u001b[1m\u001b[32mcat\u001b[0m\u001b[32mchy\u001b[0m\n",
      "  does *not* match \u001b[31mcat-call\u001b[0m\n",
      "\n",
      "using re.search, the pattern \u001b[1m\u001b[43m\u001b[34m^abc\u001b[0m\n",
      "  matches at 0-3 of \u001b[32m\u001b[0m\u001b[1m\u001b[32mabc\u001b[0m\u001b[32mb\u001b[0m\n",
      "  does *not* match \u001b[31mbbabc\u001b[0m\n",
      "\n",
      "using re.search, the pattern \u001b[1m\u001b[43m\u001b[34mabc$\u001b[0m\n",
      "  does *not* match \u001b[31mabcb\u001b[0m\n",
      "  matches at 2-5 of \u001b[32mbb\u001b[0m\u001b[1m\u001b[32mabc\u001b[0m\u001b[32m\u001b[0m\n",
      "\n"
     ]
    }
   ],
   "source": [
    "# beginning or end of a word, or not (zero-length)\n",
    "demo(r'cat\\b', ['cat', 'catchy', 'cat-call'], show_location=True)\n",
    "demo(r'cat\\B', ['cat', 'catchy', 'cat-call'], show_location=True)\n",
    "\n",
    "# beginning or end of the string (zero-length)\n",
    "demo(r'^abc', ['abcb', 'bbabc'], fn=re.search)\n",
    "demo(r'abc$', ['abcb', 'bbabc'], fn=re.search)"
   ]
  },
  {
   "cell_type": "markdown",
   "metadata": {},
   "source": [
    "When the string to search contains newlines, you use the flag `re.MULTILINE`.  Then `^` and `$` match at the beginning and end of a line (any line), and you'll use `\\A` to match at the beginning of the entire string, and `\\Z` to match at the end."
   ]
  },
  {
   "cell_type": "markdown",
   "metadata": {},
   "source": [
    "## the `re` module\n",
    "\n",
    "We've already discussed pattern strings and the strings against which we are matching.  Let's talk about the other nouns in the `re` world: compiled patterns, match objects, and the `re` module itself.  To get a compiled pattern, call `re.compile(pattern_string, flags=0)`.  A compiled pattern has method calls that are mirrored in the `re` module:\n",
    "\n",
    "* `match`, `search`, `fullmatch`\n",
    "* `split`\n",
    "* `findall`, `finditer`\n",
    "* `sub`, `subn`\n",
    "\n",
    "The `re` versions take a compiled pattern *or* a pattern-string; the compiled pattern versions take (optionally) string indeces.  So for example:\n",
    "\n",
    "`re.match(pattern, string, flags=0)` [doc](https://docs.python.org/3.7/library/re.html#re.match) vs.<br/>\n",
    "`pattern.match(string[, pos[, endpos]])` [doc](https://docs.python.org/3.7/library/re.html#re.Pattern.match)"
   ]
  },
  {
   "cell_type": "code",
   "execution_count": 17,
   "metadata": {},
   "outputs": [
    {
     "name": "stdout",
     "output_type": "stream",
     "text": [
      "using re.match, the pattern \u001b[1m\u001b[43m\u001b[34mcat\u001b[0m\n",
      "  matches at 0-3 of \u001b[32m\u001b[0m\u001b[1m\u001b[32mcat\u001b[0m\u001b[32mchy\u001b[0m\n",
      "  matches at 0-3 of \u001b[32m\u001b[0m\u001b[1m\u001b[32mcat\u001b[0m\u001b[32m\u001b[0m\n",
      "  does *not* match \u001b[31malley-cat\u001b[0m\n",
      "\n",
      "using re.search, the pattern \u001b[1m\u001b[43m\u001b[34mcat\u001b[0m\n",
      "  matches at 0-3 of \u001b[32m\u001b[0m\u001b[1m\u001b[32mcat\u001b[0m\u001b[32mchy\u001b[0m\n",
      "  matches at 0-3 of \u001b[32m\u001b[0m\u001b[1m\u001b[32mcat\u001b[0m\u001b[32m\u001b[0m\n",
      "  matches at 6-9 of \u001b[32malley-\u001b[0m\u001b[1m\u001b[32mcat\u001b[0m\u001b[32m\u001b[0m\n",
      "\n",
      "using re.fullmatch, the pattern \u001b[1m\u001b[43m\u001b[34mcat\u001b[0m\n",
      "  does *not* match \u001b[31mcatchy\u001b[0m\n",
      "  matches at 0-3 of \u001b[32m\u001b[0m\u001b[1m\u001b[32mcat\u001b[0m\u001b[32m\u001b[0m\n",
      "  does *not* match \u001b[31malley-cat\u001b[0m\n",
      "\n"
     ]
    }
   ],
   "source": [
    "# `match` vs. `search` vs. `fullmatch`\n",
    "# `match` and `search` you know; `fullmatch` must match the entire string\n",
    "demo(r'cat', ['catchy', 'cat', 'alley-cat'], fn=re.match)\n",
    "demo(r'cat', ['catchy', 'cat', 'alley-cat'], fn=re.search)\n",
    "demo(r'cat', ['catchy', 'cat', 'alley-cat'], fn=re.fullmatch)"
   ]
  },
  {
   "cell_type": "code",
   "execution_count": 18,
   "metadata": {},
   "outputs": [
    {
     "data": {
      "text/plain": [
       "['a', 'b', 'c', 'd', 'e', 'f']"
      ]
     },
     "execution_count": 18,
     "metadata": {},
     "output_type": "execute_result"
    }
   ],
   "source": [
    "# split with a regex can do things regular str.split cannot\n",
    "row = 'a,  b;\\tc;d, e,          f'\n",
    "re.split(r'[,;]\\s*', row)"
   ]
  },
  {
   "cell_type": "code",
   "execution_count": 19,
   "metadata": {},
   "outputs": [
    {
     "data": {
      "text/plain": [
       "'a, b, c, d, e, f'"
      ]
     },
     "execution_count": 19,
     "metadata": {},
     "output_type": "execute_result"
    }
   ],
   "source": [
    "# or clean the data with re.sub\n",
    "re.sub(r'[,;]\\s*', ', ', row)"
   ]
  },
  {
   "cell_type": "code",
   "execution_count": 20,
   "metadata": {},
   "outputs": [
    {
     "name": "stdout",
     "output_type": "stream",
     "text": [
      "match 1 spans (1, 4)\n",
      "match 2 spans (5, 7)\n",
      "match 3 spans (8, 9)\n",
      "match 4 spans (10, 12)\n",
      "match 5 spans (13, 24)\n"
     ]
    },
    {
     "data": {
      "text/plain": [
       "['a', 'b', 'c', 'd', 'e', 'f']"
      ]
     },
     "execution_count": 20,
     "metadata": {},
     "output_type": "execute_result"
    }
   ],
   "source": [
    "# just for completeness' sake will look at re.finditer and re.findall\n",
    "for i, match in enumerate(re.finditer(r'[,;]\\s*', row), 1):\n",
    "    print(f'match {i} spans {match.span()}')\n",
    "\n",
    "re.findall(r'\\w+', row)"
   ]
  },
  {
   "cell_type": "markdown",
   "metadata": {},
   "source": [
    "#### match objects\n",
    "\n",
    "Matching functions will return a match object (success) or `None` (failure).  A simple `if` is all you need to test for success.  Save the match object to access some details about the match.  For instance, remember we talked about \"capturing\" groups.  This is where the data in a captured group is saved."
   ]
  },
  {
   "cell_type": "code",
   "execution_count": 21,
   "metadata": {},
   "outputs": [
    {
     "name": "stdout",
     "output_type": "stream",
     "text": [
      "group 1: 867\n",
      "group 2: 5309\n",
      "try a tuple: ('867', '5309')\n",
      "group 1 matched the range (0, 3)\n",
      "group 2 matched the range (4, 8)\n",
      "original pattern: re.compile('(\\\\d{3})-(\\\\d{4})')\n"
     ]
    }
   ],
   "source": [
    "match = re.match(r'(\\d{3})-(\\d{4})', '867-5309')\n",
    "if match:\n",
    "    print(f'group 1: {match.group(1)}')\n",
    "    print(f'group 2: {match[2]}')\n",
    "    print(f'try a tuple: {match.group(1, 2)}')\n",
    "    print(f'group 1 matched the range {match.span(1)}')\n",
    "    print(f'group 2 matched the range ({match.start(2)}, {match.end(2)})')\n",
    "    print(f'original pattern: {match.re}')"
   ]
  },
  {
   "cell_type": "markdown",
   "metadata": {},
   "source": [
    "## tips and tricks\n",
    "\n",
    "* verbose mode\n",
    "* to compile or not\n",
    "* using a function argument in `sub` and `subn`\n",
    "* `re.escape`\n",
    "* `match.expand`"
   ]
  },
  {
   "cell_type": "markdown",
   "metadata": {},
   "source": [
    "#### Simple string operations vs. `re` calls"
   ]
  },
  {
   "cell_type": "code",
   "execution_count": 22,
   "metadata": {},
   "outputs": [
    {
     "name": "stdout",
     "output_type": "stream",
     "text": [
      "36.7 ns ± 2.47 ns per loop (mean ± std. dev. of 7 runs, 10000000 loops each)\n"
     ]
    }
   ],
   "source": [
    "%timeit 'cat' in 'dog-catcher'"
   ]
  },
  {
   "cell_type": "code",
   "execution_count": 23,
   "metadata": {},
   "outputs": [
    {
     "name": "stdout",
     "output_type": "stream",
     "text": [
      "639 ns ± 17.5 ns per loop (mean ± std. dev. of 7 runs, 1000000 loops each)\n"
     ]
    }
   ],
   "source": [
    "%timeit re.search('cat', 'dog-catcher')"
   ]
  },
  {
   "cell_type": "code",
   "execution_count": 24,
   "metadata": {},
   "outputs": [
    {
     "name": "stdout",
     "output_type": "stream",
     "text": [
      "126 ns ± 4.28 ns per loop (mean ± std. dev. of 7 runs, 10000000 loops each)\n"
     ]
    }
   ],
   "source": [
    "%timeit 'catchy'.startswith('cat')"
   ]
  },
  {
   "cell_type": "code",
   "execution_count": 25,
   "metadata": {},
   "outputs": [
    {
     "name": "stdout",
     "output_type": "stream",
     "text": [
      "690 ns ± 10.8 ns per loop (mean ± std. dev. of 7 runs, 1000000 loops each)\n"
     ]
    }
   ],
   "source": [
    "%timeit re.match('cat', 'catchy')"
   ]
  },
  {
   "cell_type": "code",
   "execution_count": 26,
   "metadata": {},
   "outputs": [
    {
     "name": "stdout",
     "output_type": "stream",
     "text": [
      "23.7 ns ± 1.13 ns per loop (mean ± std. dev. of 7 runs, 10000000 loops each)\n"
     ]
    }
   ],
   "source": [
    "%timeit 'cat' == 'cat'"
   ]
  },
  {
   "cell_type": "code",
   "execution_count": 27,
   "metadata": {
    "scrolled": true
   },
   "outputs": [
    {
     "name": "stdout",
     "output_type": "stream",
     "text": [
      "742 ns ± 41.5 ns per loop (mean ± std. dev. of 7 runs, 1000000 loops each)\n"
     ]
    }
   ],
   "source": [
    "%timeit re.fullmatch('cat', 'cat')"
   ]
  },
  {
   "cell_type": "markdown",
   "metadata": {},
   "source": [
    "The conclusion is: if your regular expression is a simple string, it's way faster, simpler, and easier reading to use simple string operations.  If it's file-system path, you probably want to be working mostly with `os.path`, or possibly `glob`.  Although I parse URLs below, you probably *really* want to be using `urllib.parse`."
   ]
  },
  {
   "cell_type": "markdown",
   "metadata": {},
   "source": [
    "## common pitfalls\n",
    "\n",
    "* failure to make your pattern a raw string\n",
    "* not understanding `re.MULTILINE` (which we'll use below) and `re.DOTALL`\n",
    "* mixing `str` with `bytes`\n",
    "* trying to [parse HTML](https://stackoverflow.com/questions/1732348/regex-match-open-tags-except-xhtml-self-contained-tags/1732454#1732454)"
   ]
  },
  {
   "cell_type": "markdown",
   "metadata": {},
   "source": [
    "## Real-World(ish) Examples\n",
    "\n",
    "### parsing URLs"
   ]
  },
  {
   "cell_type": "code",
   "execution_count": 28,
   "metadata": {},
   "outputs": [
    {
     "name": "stdout",
     "output_type": "stream",
     "text": [
      "protocol: \u001b[32mhttps\u001b[0m\n",
      "    host: \u001b[32mgoogle.com\u001b[0m\n",
      "\n",
      "protocol: \u001b[32mhttps\u001b[0m\n",
      "    host: \u001b[32mgoogle.com\u001b[0m\n",
      "    path: \u001b[32m/\u001b[0m\n",
      "\n",
      "protocol: \u001b[32mhttps\u001b[0m\n",
      "    host: \u001b[32mwww.kidsa-z.com\u001b[0m\n",
      "    path: \u001b[32m/main/Activity/reading\u001b[0m\n",
      "\n",
      "protocol: \u001b[32mhttp\u001b[0m\n",
      "    host: \u001b[32mlocal.kidsa-z.com\u001b[0m\n",
      "    port: \u001b[32m8088\u001b[0m\n",
      "    path: \u001b[32m/main/Activity/reading\u001b[0m\n",
      "   query: \u001b[32mmodule=razkids\u001b[0m\n",
      "\n",
      "protocol: \u001b[32mhttps\u001b[0m\n",
      "    host: \u001b[32mgithub.com\u001b[0m\n",
      "    path: \u001b[32m/wolf/re-presentation.git\u001b[0m\n",
      "\n",
      "protocol: \u001b[32mhttps\u001b[0m\n",
      "    host: \u001b[32mwww.amazon.com\u001b[0m\n",
      "    path: \u001b[32m/Mastering-Regular-Expressions-Techniques-Handbooks/dp/1565922573\u001b[0m\n",
      "\n"
     ]
    }
   ],
   "source": [
    "# (?P<name>...) is a special group: named capturing group\n",
    "# and we'll use verbose mode to make a hard pattern a little easier\n",
    "# but really you should be using urllib.parse\n",
    "\n",
    "url_pattern_str = r'''\n",
    "    (?P<protocol>  # URL protocol, required and captured\n",
    "      http s?      # the 's' in 'https' is optional\n",
    "    )\n",
    "    ://            # required, but not captured\n",
    "    (?P<host>      # host, required _and_ captured\n",
    "      [^/:]+       # ...stops at the first slash or colon\n",
    "    )\n",
    "    (?:            # an optional group for the port\n",
    "      :            # ...so we don't capture the colon\n",
    "      (?P<port>    # optional (because of the containing group), but captured\n",
    "          \\d+      # the port is all digits\n",
    "      )\n",
    "    )?\n",
    "    (?P<path>      # path, optional but captured\n",
    "      /[^?]*       # ...stops at the first question mark\n",
    "    )?\n",
    "    (?:            # an optional group for the query\n",
    "      \\?           # ...so we don't capture the '?' that starts a query\n",
    "      (?P<query>\n",
    "          .+       # everything _after_ the question mark is the query itself\n",
    "      )\n",
    "    )?\n",
    "'''\n",
    "url_pattern = re.compile(url_pattern_str, re.VERBOSE)\n",
    "\n",
    "urls = [\n",
    "    'https://google.com',\n",
    "    'https://google.com/',\n",
    "    'https://www.kidsa-z.com/main/Activity/reading',\n",
    "    'http://local.kidsa-z.com:8088/main/Activity/reading?module=razkids',\n",
    "    'https://github.com/wolf/re-presentation.git',\n",
    "    'https://www.amazon.com/Mastering-Regular-Expressions-Techniques-Handbooks/dp/1565922573',\n",
    "]\n",
    "\n",
    "for url in urls:\n",
    "    match = url_pattern.match(url)\n",
    "\n",
    "    for group_name in url_pattern.groupindex.keys():\n",
    "        if match[group_name]:\n",
    "            print(f'{group_name:>8}:', colored(f'{match[group_name]}', 'green'))\n",
    "    print()"
   ]
  },
  {
   "cell_type": "markdown",
   "metadata": {},
   "source": [
    "### extracting flags from a status page (abridged)"
   ]
  },
  {
   "cell_type": "code",
   "execution_count": 29,
   "metadata": {
    "scrolled": false
   },
   "outputs": [
    {
     "name": "stdout",
     "output_type": "stream",
     "text": [
      "ACCESS_CONTROL_USAGE_REPORTING_EMAIL\n",
      "ACCOUNTS_IMPORT_TEACHERS\n",
      "ACCOUNTS_REGISTER_USER_CHANGES\n",
      "ACTIVITY_TESTLET_RENAME\n",
      "ADDITIONAL_PARENT_LETTER_LANGUAGES\n",
      "ADMIN_DASHBOARDS\n",
      "ADMIN_DASHBOARDS_REWRITE\n",
      "AUTHORING_TOOL\n",
      "AVATAR_BUILDER_REDESIGN\n",
      "BATCHADD_SISID\n",
      "BENCHMARK_BOOK_REVISIONS_PROJECT\n",
      "BOOK_REVIEW_FAVORITES\n",
      "BRAINHONEY_LINK_ACCOUNTS\n",
      "BRAINHONEY_LINK_HEADSPROUT\n",
      "BRAINHONEY_LINK_KIDSAZ\n",
      "BRAINHONEY_LINK_RAZ\n",
      "BRAINHONEY_LINK_RAZKIDS\n",
      "BRAINHONEY_LINK_SAZ\n",
      "BRAINHONEY_LINK_VOCAB\n",
      "BRAINHONEY_LINK_WAZ\n",
      "CLASSROOM_REPORTS_ANGULAR_UI_ROUTING\n",
      "CLEAR_SESSION_FOR_SSO_AUTHENTICATION\n",
      "CMS_STICKER_BOOK\n",
      "CONSTRUCTED_RESPONSE_TOGGLE\n",
      "CREATE_FLAG_CATEGORIES\n",
      "CSI_SOLR_SEARCH\n",
      "CSI_SSO_AUTHENTICATION\n",
      "DEMO_ROSTER\n",
      "DEMO_ROSTER_ACTIVITY\n",
      "DESK_CUSTOMER_SERVICE\n",
      "DESK_LIVE_CHAT_SERVICE\n",
      "DISABLE_ACT_ON_EMAIL_CREATE\n",
      "DISABLE_ACT_ON_EMAIL_SEND\n",
      "EL_MULTI_LINEITEM_ORDER_API\n",
      "EL_SFC_LINE_ITEMS\n",
      "EL_SFC_TAX\n",
      "ENABLE_MOST_RECENTLY_AVAILABLE_DIST_RPT_DATE\n",
      "EUROPEAN_CURRICULUM_STANDARDS\n",
      "FFMPEG_2_0_2\n",
      "FF_CREATE_NOTES\n",
      "FF_HTML5_CLIENTS\n",
      "FF_NEW_DEFINITIONS\n",
      "FF_NOTES\n",
      "FF_ULBROWSER_COPY_FILES\n",
      "FF_UL_DIRECTORY_LIST_USING_FFBACK\n",
      "FF_USER_FEATURE_LOCKING\n",
      "FF_USE_REPORTING_RELATIONSHIP\n",
      "FILTER_USER_NOTES\n",
      "FLORIDA_ALTERNATE_ASSESSMENT_STANDARDS\n",
      "FOUNDATIONAL_SKILLS_REFINEMENT\n",
      "GETTING_STARTED_GUIDES\n",
      "GIANTS_NONFICTION_SERIES\n",
      "GRADE_LEVELS\n",
      "GRADE_LEVEL_BANNER\n",
      "HEADSPROUT_ADMIN_DASHBOARD\n",
      "HEADSPROUT_COMPREHENSION\n",
      "HEADSPROUT_COMPREHENSION_SKILL_REPORT\n",
      "HEADSPROUT_DASHBOARD\n",
      "HEADSPROUT_RC2\n",
      "HS_BENCHMARK_WORKAROUND\n",
      "HS_HTML5\n",
      "HS_HTML5_CLICK_SEGMENT\n",
      "HS_HTML5_LAST_SEGMENT\n",
      "HS_MEMBER_HOME_REDESIGN\n",
      "HTML5_ROCKET\n",
      "HTML5_TEACHER_ROCKET\n",
      "INTERACTIVE_SCIENCE\n",
      "INTERMEDIATE_SKIN\n",
      "IP_COUNTRY_REDIRECT\n",
      "IS_SORT_CUSTOM_ASSIGNMENT_RESOURCES_IN_PHP\n",
      "K3000_BIBLIOGRAPHY_TOOL\n",
      "K3000_CUSTOMIZE_TOOLBARS\n",
      "K3000_NEW_UI\n",
      "K3000_OFFLINE_MODE2\n",
      "K3000_SPEECH_TO_TEXT\n",
      "KIDSA-Z\n",
      "KIDS_LOGIN\n",
      "KIDS_LOGIN_REDESIGN\n",
      "KIDS_WALK_ME_MODULES\n",
      "KI_CSI_TAX\n",
      "LAZ_CMS_SYNCWORDS_API\n",
      "LAZ_CSI_TAX\n",
      "LAZ_ORDER_POPUP\n",
      "LAZ_REDESIGN_USER_PAGE\n",
      "LAZ_SALESFORCE_OPPORTUNITY_SYNC\n",
      "LAZ_SALES_REP_TERRITORY_ASSIGNMENTS\n",
      "LAZ_SFC_OPTOUT_EVENTS\n",
      "LAZ_SSO_DISTRICT_GROUPING\n",
      "LAZ_SSS_TAX\n",
      "LAZ_TRAINING_AUTO_ADD\n",
      "LESSON_PLANNER\n",
      "LEVELED_BOOK_LESSONS\n",
      "LOG_SSO_NON_EXCEPTION_AUTHENTICATION_FAILURES\n",
      "MEMBER_TEACHER_CODE\n",
      "MOBILE_HEADSPROUT_PREVIEW\n",
      "MOBILE_LISTEN_WITH_ANIMATION\n",
      "MOBILE_PUSH_NOTIFICATION\n",
      "MOBILE_RUNNING_RECORD\n",
      "ORDER_NOW_REDESIGN\n",
      "ORDER_NOW_REDESIGN_CLIENT\n",
      "ORG_NAME_HISTORY_ROLLUP\n",
      "OVERRIDE_AND_PAY_TAX_SERVICE_FAILURE_BILLS\n",
      "PARENT_PORTAL_REDESIGN\n",
      "PARENT_PORTAL_REDESIGN_2\n",
      "PAY_BY_CREDIT_CARD\n",
      "PERSIST_RECENT_BOOKS\n",
      "PHONICS_SKILL_ROLLUP_JOB\n",
      "POPULAR_BOOKS\n",
      "PROFILE_PHOTO_UPLOAD\n",
      "PROJECTABLE_BOOK_TIME_TRACKING\n",
      "PURCHASE_ELL_IN_SHOPPING_CART\n",
      "RAZ-CMS-PRODUCT-UPDATES\n",
      "RAZ-QUIZ-ROOM\n",
      "RAZ_AUDIO_FOR_PROJECTABLES\n",
      "RAZ_BANNER_MEMBER\n",
      "RAZ_BANNER_NONMEMBER\n",
      "RAZ_CLOSE_READING\n",
      "RAZ_COMMON_CORE\n",
      "RAZ_ELL_SUBSCRIBERS\n",
      "RAZ_MEMBER_HOME_REDESIGN\n",
      "RAZ_PLUS_COLLECTIONS\n",
      "RAZ_PLUS_MEMBERHOME_REDESIGN\n",
      "RAZ_PLUS_USER_MANAGEMENT\n",
      "RAZ_REDESIGN_ADDED_FEATURES\n",
      "RAZ_REDESIGN_ELL\n",
      "RAZ_REDESIGN_LEVELED_BOOK\n",
      "RAZ_THEMED_NONFICTION\n",
      "RAZ_TUTORING\n",
      "READERS_THEATER_LEVELS\n",
      "READING_ROOM_FAVORITE_THEMES\n",
      "READING_SKILL_ROLLUP_JOB\n",
      "READYTEST_DASHBOARD\n",
      "READY_TEST_SKILL_ROLLUP_JOB\n",
      "RECENT_BOOKS\n",
      "REDIRECT_STUDENT_SSO_LOGOUT\n",
      "REFERRAL_PROGRAM\n",
      "REV_KIDS\n",
      "RK_ELL_VOCAB\n",
      "RK_MEMBER_HOME_REDESIGN\n",
      "RK_NEW_STUDENT_PROFILE\n",
      "RK_REDUCE_ECHO_ASSISTANCE\n",
      "RK_ROCKET_AUDIO\n",
      "ROSTER_PAGE_GRADE_TUTORIAL\n",
      "ROSTER_STUDENT_XFER\n",
      "ROSTER_XFER_OTHER_DISTRICTS\n",
      "RTAZ_ASSIGN_PRACTICE_TEST\n",
      "RTAZ_MEMBER_HOME_REDESIGN\n",
      "SALES_TRACKING_SOLR_SEARCH\n",
      "SAZ_MEMBER_HOME_REDESIGN\n",
      "SAZ_SERIES_CORRELATIONS\n",
      "SAZ_UNIT_LANDING\n",
      "SCIENCE_IN_THE_NEWS\n",
      "SCIENCE_SKILL_ROLLUP\n",
      "SCIENCE_SPANISH\n",
      "SCIENCE_TOPIC_SKILL_REPORT\n",
      "SERVER_INFO_LOGGING\n",
      "SILVERPOP_TO_ACT_ON_MIGRATION\n",
      "SIX_FOLDER_DEPTH\n",
      "SPANISH_AUTHENTIC_BOOKS\n",
      "SPANISH_QUIZZES\n",
      "STAGE_CATALOG_REQUESTS\n",
      "STUDENT_BADGES\n",
      "STUDENT_TRANSFER_WITHOUT_PLACEHOLDER_SUBSCRIPTIONS\n",
      "SUPPRESS_WRITING_TEACHER_ACCOUNT_IDS\n",
      "SYNC_ALL_EMAIL_OPT_IN_OUT_TO_SALESFORCE\n",
      "TEACHER_GRADE_LEVEL_CONFIRMATION\n",
      "TOPIC_DASHBOARD\n",
      "TOP_LEVEL_BOOKROOM_COLLECTIONS\n",
      "TRIAL_EXPERIENCE\n",
      "ULBrowserPageAndMoveDelete\n",
      "USAGE_REPORT_ROLLUP_SERVICE\n",
      "USE_JDE_CATALOG_WEB_SERVICE\n",
      "USE_TEACHER_ACCOUNT_ID_FOR_LEVEL_AND_READING_RATE\n",
      "VIEW_ACCOUNTS_REDESIGN\n",
      "WAZ_MEMBER_HOME_REDESIGN\n",
      "WEB_LISTEN_WITH_ANIMATION\n",
      "WORLD_LANGUAGES\n"
     ]
    }
   ],
   "source": [
    "import os.path\n",
    "\n",
    "# I've cleaned partial-web-page-dump.txt of passwords, but I still don't want\n",
    "# to check it into the repository.  I'll just make this cell take a pass if\n",
    "# you don't have it.  Which you don't.\n",
    "\n",
    "if os.path.exists('partial-web-page-dump.txt'):\n",
    "    with open('partial-web-page-dump.txt', 'r') as f:\n",
    "        text = f.read()\n",
    "\n",
    "    enabled_features_pattern = re.compile('enabledFeatures[^(]+\\(([^)]*)\\)', re.MULTILINE)\n",
    "    enabled_features = enabled_features_pattern.search(text)\n",
    "\n",
    "    # The switch itself is the thing inside the single quotes\n",
    "    switch_pattern = re.compile(\"'(.+)' => true\", re.MULTILINE)\n",
    "    switches = set(switch_pattern.findall(text, *enabled_features.span()))\n",
    "\n",
    "    print('\\n'.join(sorted(switches)))"
   ]
  }
 ],
 "metadata": {
  "kernelspec": {
   "display_name": "Python 3",
   "language": "python",
   "name": "python3"
  },
  "language_info": {
   "codemirror_mode": {
    "name": "ipython",
    "version": 3
   },
   "file_extension": ".py",
   "mimetype": "text/x-python",
   "name": "python",
   "nbconvert_exporter": "python",
   "pygments_lexer": "ipython3",
   "version": "3.6.5"
  }
 },
 "nbformat": 4,
 "nbformat_minor": 2
}
