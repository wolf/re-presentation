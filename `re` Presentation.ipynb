{
 "cells": [
  {
   "cell_type": "code",
   "execution_count": 1,
   "metadata": {},
   "outputs": [],
   "source": [
    "import re"
   ]
  },
  {
   "cell_type": "markdown",
   "metadata": {},
   "source": [
    "Things to talk about\n",
    "\n",
    "* regular expressions themselves\n",
    "    * simple characters\n",
    "    * character sets\n",
    "        * inverted sets\n",
    "        * ranges\n",
    "        * shortcuts\n",
    "    * repetition\n",
    "    * alternation\n",
    "    * groups\n",
    "        * non-capturing\n",
    "        * capturing, and capturing with a name\n",
    "        * back-references\n",
    "* the `re` module\n",
    "    * regular expression strings (already discussed)\n",
    "    * compiled patterns\n",
    "        * `match` vs. `search`\n",
    "        * \n",
    "    * strings to be searched\n",
    "    * match objects\n",
    "    * other interesting functions\n",
    "* tips and tricks\n",
    "    * verbose mode\n",
    "    * to compile or not\n",
    "    * greedy or not\n",
    "    * using a function argument in `sub` and `subn`\n",
    "    * setting flags within a group\n",
    "    * when to use alternatives (e.g., `os.path`, `glob`, `regex`)\n",
    "* real-world examples\n",
    "* common pitfalls\n",
    "    * failure to use a raw string\n",
    "    * not understanding re.MULTILINE, re.DOTALL\n",
    "    * mixing str and bytes\n"
   ]
  },
  {
   "cell_type": "code",
   "execution_count": 15,
   "metadata": {},
   "outputs": [
    {
     "name": "stdout",
     "output_type": "stream",
     "text": [
      "[('First ', 'line'), ('Second ', 'line')]\n",
      "First line.\n",
      "Second line.\n",
      "\n"
     ]
    }
   ],
   "source": [
    "import io\n",
    "\n",
    "output = io.StringIO()\n",
    "output.write('First line.\\n')\n",
    "print('Second line.', file=output)\n",
    "\n",
    "pattern = re.compile(r'^(.*)(line)\\.$', re.MULTILINE)\n",
    "m = pattern.findall(output.getvalue())\n",
    "print(m)\n",
    "print(output.getvalue())"
   ]
  },
  {
   "cell_type": "code",
   "execution_count": null,
   "metadata": {},
   "outputs": [],
   "source": []
  }
 ],
 "metadata": {
  "kernelspec": {
   "display_name": "Python 3",
   "language": "python",
   "name": "python3"
  },
  "language_info": {
   "codemirror_mode": {
    "name": "ipython",
    "version": 3
   },
   "file_extension": ".py",
   "mimetype": "text/x-python",
   "name": "python",
   "nbconvert_exporter": "python",
   "pygments_lexer": "ipython3",
   "version": "3.6.5"
  }
 },
 "nbformat": 4,
 "nbformat_minor": 2
}
