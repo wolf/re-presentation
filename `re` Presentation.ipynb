{
 "cells": [
  {
   "cell_type": "markdown",
   "metadata": {},
   "source": [
    "## what I'm going to talk about\n",
    "\n",
    "I'm going to talk about regular expressions in the setting of a Python program.  I will discuss some aspects of the Python modules that implement regular expressions.  The bulk of the talk is about actually formulating regular expressions and applies to almost any language, editor, or tool that works with such expressions.\n",
    "\n",
    "This talk is actually a Jupyter notebook running Python, so it's both documentation and a live demo."
   ]
  },
  {
   "cell_type": "code",
   "execution_count": 1,
   "metadata": {},
   "outputs": [
    {
     "name": "stdout",
     "output_type": "stream",
     "text": [
      "3.7.1 (default, Dec 10 2018, 22:54:23) [MSC v.1915 64 bit (AMD64)]\n"
     ]
    }
   ],
   "source": [
    "import sys\n",
    "print(sys.version)"
   ]
  },
  {
   "cell_type": "markdown",
   "metadata": {},
   "source": [
    "## documentation\n",
    "\n",
    "* This presentation: [https://github.com/wolf/re-presentation](https://github.com/wolf/re-presentation)\n",
    "* Online regex tester and debugger [regular expressions 101](https://regex101.com)\n",
    "* [re module documentation](https://docs.python.org/3.7/library/re.html)\n",
    "* third party [regex module homepage](https://bitbucket.org/mrabarnett/mrab-regex)\n",
    "* by Jeffrey Friedl: [\"Mastering Regular Expressions\" First Edition](https://www.amazon.com/Mastering-Regular-Expressions-Techniques-Handbooks/dp/1565922573) (covers Python) [Third Edition](https://www.amazon.com/Mastering-Regular-Expressions-Jeffrey-Friedl/dp/0596528124) (does *not* cover Python)"
   ]
  },
  {
   "cell_type": "code",
   "execution_count": 2,
   "metadata": {},
   "outputs": [],
   "source": [
    "import re"
   ]
  },
  {
   "cell_type": "markdown",
   "metadata": {},
   "source": [
    "## regular expressions themselves\n",
    "\n",
    "### what is a regular expression?\n",
    "\n",
    "A regular expression is a formal description of a set of strings and a well-known collection of rules to decide if any given string is *in* that set.  If a string is in the set, the regular expression is said to *match* that string.  The formal description is often referred to as the *pattern*.  The `re` module has a function to test if a regular expression matches a string: `re.match(pattern, string)`.  It actually has a couple others as well.  The regular expression rules are a domain-specific micro language that lives entirely within Python strings.\n",
    "\n",
    "This document is about regular expressions (sometimes called regexes) and the `re` module from Python 3.7.  Most of it applies to earlier versions of Python but your mileage may vary.\n",
    "\n",
    "### where will you use regular expressions?\n",
    "\n",
    "* In your favorite editor for find and replace\n",
    "* In Python code (or any other language, really)\n",
    "* In `grep`, `sed`, and `awk`\n",
    "* When writing compilers, so with `flex`, `lex`, and `re2c`\n",
    "* In full-text database searches\n",
    "* When trying to understand other people's code\n",
    "* To impress your friends at parties"
   ]
  },
  {
   "cell_type": "code",
   "execution_count": 3,
   "metadata": {},
   "outputs": [],
   "source": [
    "from termcolor import colored\n",
    "\n",
    "def demo(pattern, match_against, fn=None, show_location=False):\n",
    "    \"\"\"demo is built around re.match, but applied to a list of strings\n",
    "       instead of a single string; and it prints a message for each, appropriate\n",
    "       to a demonstration.  It uses colors and bold to make things nice.\n",
    "       It's really *mostly* about printing.\n",
    "    \"\"\"\n",
    "    compiled_pattern = re.compile(pattern)  # don't really need to do this, but it's good form\n",
    "    if isinstance(match_against, str):  # OK, it takes a list, but if you give it a single string it still works\n",
    "        match_against = [ match_against ]\n",
    "    if fn is None:\n",
    "        fn = re.match\n",
    "    else:\n",
    "        show_location = True\n",
    "        print(f'using re.{fn.__name__}, the pattern ', end='')\n",
    "\n",
    "    print(colored(f'{pattern}', 'blue', 'on_yellow', attrs=['bold']))\n",
    "    for string in match_against:\n",
    "        match = fn(pattern=compiled_pattern, string=string)\n",
    "        if match:\n",
    "            location_info = ''\n",
    "            r = match.span()\n",
    "            if show_location:\n",
    "                location_info = f'at {r[0]}-{r[1]} of '\n",
    "            print(f'  matches {location_info}', end='')\n",
    "            \n",
    "            print(colored(f'{string[:r[0]]}', 'green'), end='')\n",
    "            print(colored(f'{string[r[0]:r[1]]}', 'green', attrs=['bold']), end='')\n",
    "            print(colored(f'{string[r[1]:]}', 'green'))\n",
    "        else:\n",
    "            print(f'  does *not* match ', end='')\n",
    "            print(colored(f'{string}', 'red'))\n",
    "    print()"
   ]
  },
  {
   "cell_type": "markdown",
   "metadata": {},
   "source": [
    "As we progress, the patterns will look more and more complicated and perhaps even cryptic.  Don't be intimidated!"
   ]
  },
  {
   "cell_type": "code",
   "execution_count": 4,
   "metadata": {},
   "outputs": [
    {
     "name": "stdout",
     "output_type": "stream",
     "text": [
      "The pattern \"cat\" matches the string \"cat\"\n",
      "\u001b[1m\u001b[43m\u001b[34mcat\u001b[0m\n",
      "  does *not* match \u001b[31mdog\u001b[0m\n",
      "\n"
     ]
    }
   ],
   "source": [
    "# Simple characters like 'c', 'a', or 't', match themselves\n",
    "# Note that I specified the pattern as a raw string... make that a habit for yourself\n",
    "if re.match(pattern=r'cat', string='cat'):\n",
    "    print('The pattern \"cat\" matches the string \"cat\"')\n",
    "\n",
    "demo(pattern=r'cat', match_against='dog')"
   ]
  },
  {
   "cell_type": "markdown",
   "metadata": {},
   "source": [
    "`re.match` actually only tests that the string *starts* with a match.  Later we'll talk about `re.search` and `re.fullmatch`."
   ]
  },
  {
   "cell_type": "code",
   "execution_count": 5,
   "metadata": {},
   "outputs": [
    {
     "name": "stdout",
     "output_type": "stream",
     "text": [
      "\u001b[1m\u001b[43m\u001b[34mcat\u001b[0m\n",
      "  matches \u001b[32m\u001b[0m\u001b[1m\u001b[32mcat\u001b[0m\u001b[32mch\u001b[0m\n",
      "  does *not* match \u001b[31mcopy-cat\u001b[0m\n",
      "\n"
     ]
    }
   ],
   "source": [
    "# Note the bold part of the output is the actual match\n",
    "# The non-bold output is the extra text that is not part of the match\n",
    "demo(pattern=r'cat', match_against=['catch', 'copy-cat'])"
   ]
  },
  {
   "cell_type": "markdown",
   "metadata": {},
   "source": [
    "#### character classes or sets"
   ]
  },
  {
   "cell_type": "code",
   "execution_count": 6,
   "metadata": {
    "scrolled": true
   },
   "outputs": [
    {
     "name": "stdout",
     "output_type": "stream",
     "text": [
      "\u001b[1m\u001b[43m\u001b[34mc[aou]t\u001b[0m\n",
      "  matches \u001b[32m\u001b[0m\u001b[1m\u001b[32mcat\u001b[0m\u001b[32m\u001b[0m\n",
      "  matches \u001b[32m\u001b[0m\u001b[1m\u001b[32mcot\u001b[0m\u001b[32me\u001b[0m\n",
      "  matches \u001b[32m\u001b[0m\u001b[1m\u001b[32mcut\u001b[0m\u001b[32me\u001b[0m\n",
      "  does *not* match \u001b[31mcity\u001b[0m\n",
      "\n"
     ]
    }
   ],
   "source": [
    "# Using a simple set: [aou]\n",
    "demo(pattern=r'c[aou]t', match_against=['cat', 'cote', 'cute', 'city'])"
   ]
  },
  {
   "cell_type": "code",
   "execution_count": 7,
   "metadata": {},
   "outputs": [
    {
     "name": "stdout",
     "output_type": "stream",
     "text": [
      "\u001b[1m\u001b[43m\u001b[34mc[^y]t\u001b[0m\n",
      "  matches \u001b[32m\u001b[0m\u001b[1m\u001b[32mcat\u001b[0m\u001b[32m\u001b[0m\n",
      "  matches \u001b[32m\u001b[0m\u001b[1m\u001b[32mcot\u001b[0m\u001b[32me\u001b[0m\n",
      "  does *not* match \u001b[31mcytoplasm\u001b[0m\n",
      "  matches \u001b[32m\u001b[0m\u001b[1m\u001b[32mcct\u001b[0m\u001b[32mv\u001b[0m\n",
      "\n"
     ]
    }
   ],
   "source": [
    "# Inverting a set: [^y]\n",
    "demo(r'c[^y]t', ['cat', 'cote', 'cytoplasm', 'cctv'])"
   ]
  },
  {
   "cell_type": "code",
   "execution_count": 8,
   "metadata": {},
   "outputs": [
    {
     "name": "stdout",
     "output_type": "stream",
     "text": [
      "\u001b[1m\u001b[43m\u001b[34mc[a\\]u^]t\u001b[0m\n",
      "  matches \u001b[32m\u001b[0m\u001b[1m\u001b[32mc^t\u001b[0m\u001b[32m\u001b[0m\n",
      "  matches \u001b[32m\u001b[0m\u001b[1m\u001b[32mc]t\u001b[0m\u001b[32m\u001b[0m\n",
      "\n"
     ]
    }
   ],
   "source": [
    "# To include '^' in a set, just make sure it isn't first\n",
    "# To include a bracket, escape it with '\\' (or put it first)\n",
    "demo(r'c[a\\]u^]t', ['c^t', 'c]t'])"
   ]
  },
  {
   "cell_type": "code",
   "execution_count": 9,
   "metadata": {},
   "outputs": [
    {
     "name": "stdout",
     "output_type": "stream",
     "text": [
      "\u001b[1m\u001b[43m\u001b[34m0x[a-f0-9]\u001b[0m\n",
      "  matches \u001b[32m\u001b[0m\u001b[1m\u001b[32m0x2\u001b[0m\u001b[32m\u001b[0m\n",
      "  matches \u001b[32m\u001b[0m\u001b[1m\u001b[32m0xc\u001b[0m\u001b[32m\u001b[0m\n",
      "  does *not* match \u001b[31m0xq\u001b[0m\n",
      "\n"
     ]
    }
   ],
   "source": [
    "# Using ranges: [a-f0-9]\n",
    "demo(r'0x[a-f0-9]', ['0x2', '0xc', '0xq'])"
   ]
  },
  {
   "cell_type": "code",
   "execution_count": 10,
   "metadata": {},
   "outputs": [
    {
     "name": "stdout",
     "output_type": "stream",
     "text": [
      "\u001b[1m\u001b[43m\u001b[34m[-a-f0-9]\u001b[0m\n",
      "  matches \u001b[32m\u001b[0m\u001b[1m\u001b[32m-\u001b[0m\u001b[32m\u001b[0m\n",
      "  matches \u001b[32m\u001b[0m\u001b[1m\u001b[32mc\u001b[0m\u001b[32m\u001b[0m\n",
      "\n"
     ]
    }
   ],
   "source": [
    "# To include '-' in a set, make it first; or following something not a letter or digit\n",
    "demo(r'[-a-f0-9]', ['-', 'c'])"
   ]
  },
  {
   "cell_type": "code",
   "execution_count": 11,
   "metadata": {},
   "outputs": [
    {
     "name": "stdout",
     "output_type": "stream",
     "text": [
      "\u001b[1m\u001b[43m\u001b[34m\\d\\d\\d-\\d\\d\\d\\d\u001b[0m\n",
      "  does *not* match \u001b[31m555-12q2\u001b[0m\n",
      "  does *not* match \u001b[31m411\u001b[0m\n",
      "  matches \u001b[32m\u001b[0m\u001b[1m\u001b[32m867-5309\u001b[0m\u001b[32m\u001b[0m\n",
      "\n",
      "\u001b[1m\u001b[43m\u001b[34m\\d\\d\\d-\\d\\d.\\d\u001b[0m\n",
      "  matches \u001b[32m\u001b[0m\u001b[1m\u001b[32m555-12q2\u001b[0m\u001b[32m\u001b[0m\n",
      "  does *not* match \u001b[31m411\u001b[0m\n",
      "  matches \u001b[32m\u001b[0m\u001b[1m\u001b[32m867-5309\u001b[0m\u001b[32m\u001b[0m\n",
      "\n"
     ]
    }
   ],
   "source": [
    "# Using shortcut: \\d == [0-9]; . == [^\\n]\n",
    "demo(r'\\d\\d\\d-\\d\\d\\d\\d', ['555-12q2', '411', '867-5309'])\n",
    "demo(r'\\d\\d\\d-\\d\\d.\\d', ['555-12q2', '411', '867-5309'])"
   ]
  },
  {
   "cell_type": "markdown",
   "metadata": {},
   "source": [
    "#### repetition"
   ]
  },
  {
   "cell_type": "code",
   "execution_count": 12,
   "metadata": {
    "scrolled": true
   },
   "outputs": [
    {
     "name": "stdout",
     "output_type": "stream",
     "text": [
      "\u001b[1m\u001b[43m\u001b[34m\\d{3}-\\d{4}\u001b[0m\n",
      "  does *not* match \u001b[31m555-12q2\u001b[0m\n",
      "  does *not* match \u001b[31m411\u001b[0m\n",
      "  matches \u001b[32m\u001b[0m\u001b[1m\u001b[32m867-5309\u001b[0m\u001b[32m\u001b[0m\n",
      "\n",
      "\u001b[1m\u001b[43m\u001b[34m=\\w{3,5}=\u001b[0m\n",
      "  matches \u001b[32m\u001b[0m\u001b[1m\u001b[32m=cat=\u001b[0m\u001b[32m\u001b[0m\n",
      "  matches \u001b[32m\u001b[0m\u001b[1m\u001b[32m=catch=\u001b[0m\u001b[32m\u001b[0m\n",
      "  matches \u001b[32m\u001b[0m\u001b[1m\u001b[32m=dogs=\u001b[0m\u001b[32m\u001b[0m\n",
      "  does *not* match \u001b[31m=catchy=\u001b[0m\n",
      "  does *not* match \u001b[31m=my=\u001b[0m\n",
      "\n"
     ]
    }
   ],
   "source": [
    "# {min, max}, note that \\w == [a-zA-Z0-9_] (at least for ASCII)\n",
    "demo(r'\\d{3}-\\d{4}', ['555-12q2', '411', '867-5309'])\n",
    "demo(r'=\\w{3,5}=', ['=cat=', '=catch=', '=dogs=', '=catchy=', '=my='])"
   ]
  },
  {
   "cell_type": "code",
   "execution_count": 13,
   "metadata": {},
   "outputs": [
    {
     "name": "stdout",
     "output_type": "stream",
     "text": [
      "\u001b[1m\u001b[43m\u001b[34m\\d+\\s*-?\\s*\\d*\u001b[0m\n",
      "  matches at 0-9 of \u001b[32m\u001b[0m\u001b[1m\u001b[32m555-\t1212\u001b[0m\u001b[32m\u001b[0m\n",
      "  matches at 0-3 of \u001b[32m\u001b[0m\u001b[1m\u001b[32m411\u001b[0m\u001b[32m\u001b[0m\n",
      "  matches at 0-6 of \u001b[32m\u001b[0m\u001b[1m\u001b[32m12345-\u001b[0m\u001b[32mabc\u001b[0m\n",
      "\n"
     ]
    }
   ],
   "source": [
    "# shortcuts for repetition\n",
    "# ?, +, *, Note that \\s is whitespace\n",
    "# ? == {0,1}, + == {1,}, * == {0,}\n",
    "demo(r'\\d+\\s*-?\\s*\\d*', ['555-\\t1212', '411', '12345-abc'], show_location=True)"
   ]
  },
  {
   "cell_type": "markdown",
   "metadata": {},
   "source": [
    "#### alternation"
   ]
  },
  {
   "cell_type": "code",
   "execution_count": 14,
   "metadata": {},
   "outputs": [
    {
     "name": "stdout",
     "output_type": "stream",
     "text": [
      "\u001b[1m\u001b[43m\u001b[34mcat|dog\u001b[0m\n",
      "  matches \u001b[32m\u001b[0m\u001b[1m\u001b[32mcat\u001b[0m\u001b[32mchy\u001b[0m\n",
      "  matches \u001b[32m\u001b[0m\u001b[1m\u001b[32mdog\u001b[0m\u001b[32m-lover\u001b[0m\n",
      "  does *not* match \u001b[31mapple pie\u001b[0m\n",
      "\n"
     ]
    }
   ],
   "source": [
    "# binds lower than other operators, so cat|dog does what it looks like\n",
    "demo(r'cat|dog', ['catchy', 'dog-lover', 'apple pie'])"
   ]
  },
  {
   "cell_type": "markdown",
   "metadata": {},
   "source": [
    "#### groups"
   ]
  },
  {
   "cell_type": "code",
   "execution_count": 15,
   "metadata": {},
   "outputs": [
    {
     "name": "stdout",
     "output_type": "stream",
     "text": [
      "\u001b[1m\u001b[43m\u001b[34m\\d{3}(-\\d{4})?\u001b[0m\n",
      "  matches \u001b[32m\u001b[0m\u001b[1m\u001b[32m555-1212\u001b[0m\u001b[32m\u001b[0m\n",
      "  matches \u001b[32m\u001b[0m\u001b[1m\u001b[32m411\u001b[0m\u001b[32m\u001b[0m\n",
      "\n",
      "\u001b[1m\u001b[43m\u001b[34m(\\w+) \\1\u001b[0m\n",
      "  does *not* match \u001b[31mabc def\u001b[0m\n",
      "  matches \u001b[32m\u001b[0m\u001b[1m\u001b[32mabc abc\u001b[0m\u001b[32m\u001b[0m\n",
      "\n",
      "\u001b[1m\u001b[43m\u001b[34mhref=([\\'\\\"]).*?\\1\u001b[0m\n",
      "  matches \u001b[32m\u001b[0m\u001b[1m\u001b[32mhref=\"hello\"\u001b[0m\u001b[32m\u001b[0m\n",
      "  matches \u001b[32m\u001b[0m\u001b[1m\u001b[32mhref='goodbye'\u001b[0m\u001b[32m\u001b[0m\n",
      "  does *not* match \u001b[31mhref='abc\"\u001b[0m\n",
      "\n"
     ]
    }
   ],
   "source": [
    "# the default kind of group, capturing, is specified with simple parens\n",
    "demo(r'\\d{3}(-\\d{4})?', ['555-1212', '411'])\n",
    "\n",
    "# When you've captured a group, you can reference it later with a backslash\n",
    "demo(r'(\\w+) \\1', ['abc def', 'abc abc'])\n",
    "demo(r'href=([\\'\\\"]).*?\\1', ['href=\"hello\"', 'href=\\'goodbye\\'', 'href=\\'abc\"'])\n",
    "# note the non-greedy '.*?' -- that gets the shortest matching string instead of the longest"
   ]
  },
  {
   "cell_type": "code",
   "execution_count": 16,
   "metadata": {},
   "outputs": [
    {
     "name": "stdout",
     "output_type": "stream",
     "text": [
      "\u001b[1m\u001b[43m\u001b[34m(?:\\d+-)?(\\d{4})\u001b[0m\n",
      "  matches \u001b[32m\u001b[0m\u001b[1m\u001b[32m555-1212\u001b[0m\u001b[32m\u001b[0m\n",
      "  matches \u001b[32m\u001b[0m\u001b[1m\u001b[32m4501\u001b[0m\u001b[32m\u001b[0m\n",
      "\n",
      "\u001b[1m\u001b[43m\u001b[34m(?x)  # verbose mode\n",
      "    \\d{3}          # prefix\n",
      "    ( - \\d{4} )?   # optional\u001b[0m\n",
      "  matches \u001b[32m\u001b[0m\u001b[1m\u001b[32m555-1212\u001b[0m\u001b[32m\u001b[0m\n",
      "  matches \u001b[32m\u001b[0m\u001b[1m\u001b[32m411\u001b[0m\u001b[32m\u001b[0m\n",
      "\n"
     ]
    }
   ],
   "source": [
    "# special groups start with a '?' just inside the left paren\n",
    "# (?:...) is a non-capturing group\n",
    "demo(r'(?:\\d+-)?(\\d{4})', ['555-1212', '4501'])\n",
    "\n",
    "# 'x' is the verbose flag, this is a flag-setting group\n",
    "# verbose mode lets me break apart the regex, even onto multiple lines\n",
    "demo(r'''(?x)  # verbose mode\n",
    "    \\d{3}          # prefix\n",
    "    ( - \\d{4} )?   # optional''', ['555-1212', '411'])"
   ]
  },
  {
   "cell_type": "code",
   "execution_count": 17,
   "metadata": {},
   "outputs": [
    {
     "name": "stdout",
     "output_type": "stream",
     "text": [
      "\u001b[1m\u001b[43m\u001b[34m(?i)abcXYZ\u001b[0m\n",
      "  matches \u001b[32m\u001b[0m\u001b[1m\u001b[32mabcxyz\u001b[0m\u001b[32m\u001b[0m\n",
      "  matches \u001b[32m\u001b[0m\u001b[1m\u001b[32mAbCXYz\u001b[0m\u001b[32m\u001b[0m\n",
      "\n",
      "\u001b[1m\u001b[43m\u001b[34m(?i:abc)XYZ\u001b[0m\n",
      "  does *not* match \u001b[31mabcxyz\u001b[0m\n",
      "  matches \u001b[32m\u001b[0m\u001b[1m\u001b[32mabcXYZ\u001b[0m\u001b[32m\u001b[0m\n",
      "  matches \u001b[32m\u001b[0m\u001b[1m\u001b[32mABCXYZ\u001b[0m\u001b[32m\u001b[0m\n",
      "\n"
     ]
    }
   ],
   "source": [
    "# setting flags for the whole pattern, for just a portion of the pattern\n",
    "# the 'i' flag makes the pattern case-insensitive\n",
    "demo(r'(?i)abcXYZ', ['abcxyz', 'AbCXYz'])\n",
    "demo(r'(?i:abc)XYZ', ['abcxyz', 'abcXYZ', 'ABCXYZ'])"
   ]
  },
  {
   "cell_type": "code",
   "execution_count": 18,
   "metadata": {},
   "outputs": [
    {
     "name": "stdout",
     "output_type": "stream",
     "text": [
      "\u001b[1m\u001b[43m\u001b[34mIsaac(?=\\s+Asimov)\u001b[0m\n",
      "  does *not* match \u001b[31mIsaac Newton\u001b[0m\n",
      "  matches at 0-5 of \u001b[32m\u001b[0m\u001b[1m\u001b[32mIsaac\u001b[0m\u001b[32m Asimov\u001b[0m\n",
      "\n",
      "\u001b[1m\u001b[43m\u001b[34mIsaac(?!\\s+Newton)\u001b[0m\n",
      "  does *not* match \u001b[31mIsaac Newton\u001b[0m\n",
      "  matches at 0-5 of \u001b[32m\u001b[0m\u001b[1m\u001b[32mIsaac\u001b[0m\u001b[32m Asimov\u001b[0m\n",
      "\n",
      "using re.search, the pattern \u001b[1m\u001b[43m\u001b[34m(?<!particle)-physics\u001b[0m\n",
      "  matches at 7-15 of \u001b[32mnuclear\u001b[0m\u001b[1m\u001b[32m-physics\u001b[0m\u001b[32m\u001b[0m\n",
      "  does *not* match \u001b[31mparticle-physics\u001b[0m\n",
      "\n",
      "using re.search, the pattern \u001b[1m\u001b[43m\u001b[34m(?<=nuclear)-physics\u001b[0m\n",
      "  matches at 7-15 of \u001b[32mnuclear\u001b[0m\u001b[1m\u001b[32m-physics\u001b[0m\u001b[32m\u001b[0m\n",
      "  does *not* match \u001b[31mparticle-physics\u001b[0m\n",
      "\n"
     ]
    }
   ],
   "source": [
    "# assertions, positive and negative look-ahead (specialized groups)\n",
    "# `re.match`: the pattern must match at the beginning of the string;\n",
    "# `re.search`: the pattern can match anywhere inside the string\n",
    "demo(r'Isaac(?=\\s+Asimov)', ['Isaac Newton', 'Isaac Asimov'], show_location=True)\n",
    "demo(r'Isaac(?!\\s+Newton)', ['Isaac Newton', 'Isaac Asimov'], show_location=True)\n",
    "demo(r'(?<!particle)-physics', ['nuclear-physics', 'particle-physics'], fn=re.search)\n",
    "demo(r'(?<=nuclear)-physics', ['nuclear-physics', 'particle-physics'], fn=re.search)"
   ]
  },
  {
   "cell_type": "markdown",
   "metadata": {},
   "source": [
    "#### special matches\n",
    "\n",
    "Look-ahead and look-behind are a special form of match instruction called an 'assertion'.  They match zero characters, but still influence where the actual match can happen.  Here are a couple of other zero-length assertions:"
   ]
  },
  {
   "cell_type": "code",
   "execution_count": 19,
   "metadata": {},
   "outputs": [
    {
     "name": "stdout",
     "output_type": "stream",
     "text": [
      "\u001b[1m\u001b[43m\u001b[34mcat\\b\u001b[0m\n",
      "  matches at 0-3 of \u001b[32m\u001b[0m\u001b[1m\u001b[32mcat\u001b[0m\u001b[32m\u001b[0m\n",
      "  does *not* match \u001b[31mcatchy\u001b[0m\n",
      "  matches at 0-3 of \u001b[32m\u001b[0m\u001b[1m\u001b[32mcat\u001b[0m\u001b[32m-call\u001b[0m\n",
      "\n",
      "\u001b[1m\u001b[43m\u001b[34mcat\\B\u001b[0m\n",
      "  does *not* match \u001b[31mcat\u001b[0m\n",
      "  matches at 0-3 of \u001b[32m\u001b[0m\u001b[1m\u001b[32mcat\u001b[0m\u001b[32mchy\u001b[0m\n",
      "  does *not* match \u001b[31mcat-call\u001b[0m\n",
      "\n",
      "using re.search, the pattern \u001b[1m\u001b[43m\u001b[34m^abc\u001b[0m\n",
      "  matches at 0-3 of \u001b[32m\u001b[0m\u001b[1m\u001b[32mabc\u001b[0m\u001b[32mb\u001b[0m\n",
      "  does *not* match \u001b[31mbbabc\u001b[0m\n",
      "\n",
      "using re.search, the pattern \u001b[1m\u001b[43m\u001b[34mabc$\u001b[0m\n",
      "  does *not* match \u001b[31mabcb\u001b[0m\n",
      "  matches at 2-5 of \u001b[32mbb\u001b[0m\u001b[1m\u001b[32mabc\u001b[0m\u001b[32m\u001b[0m\n",
      "\n"
     ]
    }
   ],
   "source": [
    "# beginning or end of a word, or not (zero-length)\n",
    "demo(r'cat\\b', ['cat', 'catchy', 'cat-call'], show_location=True)\n",
    "demo(r'cat\\B', ['cat', 'catchy', 'cat-call'], show_location=True)\n",
    "\n",
    "# beginning or end of the string (zero-length)\n",
    "demo(r'^abc', ['abcb', 'bbabc'], fn=re.search)\n",
    "demo(r'abc$', ['abcb', 'bbabc'], fn=re.search)"
   ]
  },
  {
   "cell_type": "markdown",
   "metadata": {},
   "source": [
    "When the string to search contains newlines, you use the flag `re.MULTILINE`.  Then `^` and `$` match at the beginning and end of a line (any line), and you'll use `\\A` to match at the beginning of the entire string, and `\\Z` to match at the end."
   ]
  },
  {
   "cell_type": "markdown",
   "metadata": {},
   "source": [
    "## the `re` module\n",
    "\n",
    "We've already discussed pattern strings and the strings against which we are matching.  Let's talk about the other nouns in the `re` world: compiled patterns, match objects, and the `re` module itself.  To get a compiled pattern, call `re.compile(pattern_string, flags=0)`.  A compiled pattern has method calls that are mirrored in the `re` module:\n",
    "\n",
    "* `match`, `search`, `fullmatch`\n",
    "* `split`\n",
    "* `findall`, `finditer`\n",
    "* `sub`, `subn`\n",
    "\n",
    "The `re` versions take a compiled pattern *or* a pattern-string; the compiled pattern versions take (optionally) string indeces.  So for example:\n",
    "\n",
    "`re.match(pattern, string, flags=0)` [doc](https://docs.python.org/3.7/library/re.html#re.match) vs.<br/>\n",
    "`pattern.match(string[, pos[, endpos]])` [doc](https://docs.python.org/3.7/library/re.html#re.Pattern.match)"
   ]
  },
  {
   "cell_type": "code",
   "execution_count": 20,
   "metadata": {},
   "outputs": [
    {
     "name": "stdout",
     "output_type": "stream",
     "text": [
      "using re.match, the pattern \u001b[1m\u001b[43m\u001b[34mcat\u001b[0m\n",
      "  matches at 0-3 of \u001b[32m\u001b[0m\u001b[1m\u001b[32mcat\u001b[0m\u001b[32mchy\u001b[0m\n",
      "  matches at 0-3 of \u001b[32m\u001b[0m\u001b[1m\u001b[32mcat\u001b[0m\u001b[32m\u001b[0m\n",
      "  does *not* match \u001b[31malley-cat\u001b[0m\n",
      "\n",
      "using re.search, the pattern \u001b[1m\u001b[43m\u001b[34mcat\u001b[0m\n",
      "  matches at 0-3 of \u001b[32m\u001b[0m\u001b[1m\u001b[32mcat\u001b[0m\u001b[32mchy\u001b[0m\n",
      "  matches at 0-3 of \u001b[32m\u001b[0m\u001b[1m\u001b[32mcat\u001b[0m\u001b[32m\u001b[0m\n",
      "  matches at 6-9 of \u001b[32malley-\u001b[0m\u001b[1m\u001b[32mcat\u001b[0m\u001b[32m\u001b[0m\n",
      "\n",
      "using re.fullmatch, the pattern \u001b[1m\u001b[43m\u001b[34mcat\u001b[0m\n",
      "  does *not* match \u001b[31mcatchy\u001b[0m\n",
      "  matches at 0-3 of \u001b[32m\u001b[0m\u001b[1m\u001b[32mcat\u001b[0m\u001b[32m\u001b[0m\n",
      "  does *not* match \u001b[31malley-cat\u001b[0m\n",
      "\n"
     ]
    }
   ],
   "source": [
    "# `match` vs. `search` vs. `fullmatch`\n",
    "# `match` and `search` you know; `fullmatch` must match the entire string\n",
    "demo(r'cat', ['catchy', 'cat', 'alley-cat'], fn=re.match)\n",
    "demo(r'cat', ['catchy', 'cat', 'alley-cat'], fn=re.search)\n",
    "demo(r'cat', ['catchy', 'cat', 'alley-cat'], fn=re.fullmatch)"
   ]
  },
  {
   "cell_type": "code",
   "execution_count": 21,
   "metadata": {},
   "outputs": [
    {
     "data": {
      "text/plain": [
       "['a', 'b', 'c', 'd', 'e', 'f']"
      ]
     },
     "execution_count": 21,
     "metadata": {},
     "output_type": "execute_result"
    }
   ],
   "source": [
    "# split with a regex can do things regular str.split cannot\n",
    "row = 'a,  b;\\tc;d, e,          f'\n",
    "re.split(r'[,;]\\s*', row)"
   ]
  },
  {
   "cell_type": "code",
   "execution_count": 22,
   "metadata": {},
   "outputs": [
    {
     "data": {
      "text/plain": [
       "'a, b, c, d, e, f'"
      ]
     },
     "execution_count": 22,
     "metadata": {},
     "output_type": "execute_result"
    }
   ],
   "source": [
    "# or clean the data with re.sub\n",
    "re.sub(r'[,;]\\s*', ', ', row)"
   ]
  },
  {
   "cell_type": "code",
   "execution_count": 23,
   "metadata": {},
   "outputs": [
    {
     "name": "stdout",
     "output_type": "stream",
     "text": [
      "match 1 spans (1, 4)\n",
      "match 2 spans (5, 7)\n",
      "match 3 spans (8, 9)\n",
      "match 4 spans (10, 12)\n",
      "match 5 spans (13, 24)\n"
     ]
    },
    {
     "data": {
      "text/plain": [
       "['a', 'b', 'c', 'd', 'e', 'f']"
      ]
     },
     "execution_count": 23,
     "metadata": {},
     "output_type": "execute_result"
    }
   ],
   "source": [
    "# just for completeness' sake will look at re.finditer and re.findall\n",
    "for i, match in enumerate(re.finditer(r'[,;]\\s*', row), 1):\n",
    "    print(f'match {i} spans {match.span()}')\n",
    "\n",
    "re.findall(r'\\w+', row)"
   ]
  },
  {
   "cell_type": "code",
   "execution_count": 24,
   "metadata": {},
   "outputs": [
    {
     "data": {
      "text/plain": [
       "'A,  B;\\tC;D, E,          F'"
      ]
     },
     "execution_count": 24,
     "metadata": {},
     "output_type": "execute_result"
    }
   ],
   "source": [
    "# you can pass a function as the replacement argument in sub\n",
    "# that function takes a single argument: the current match object\n",
    "re.sub(r'\\w+', lambda m: m.group().upper(), row)"
   ]
  },
  {
   "cell_type": "markdown",
   "metadata": {},
   "source": [
    "#### match objects\n",
    "\n",
    "Matching functions will return a match object (success) or `None` (failure).  A simple `if` is all you need to test for success.  Save the match object to access some details about the match.  For instance, remember we talked about \"capturing\" groups.  This is where the data in a captured group is saved."
   ]
  },
  {
   "cell_type": "code",
   "execution_count": 25,
   "metadata": {},
   "outputs": [
    {
     "name": "stdout",
     "output_type": "stream",
     "text": [
      "group 1: 867\n",
      "group 2: 5309\n",
      "try a tuple: ('867', '5309')\n",
      "group 1 matched the range (0, 3)\n",
      "group 2 matched the range (4, 8)\n",
      "original pattern: re.compile('(\\\\d{3})-(\\\\d{4})')\n"
     ]
    }
   ],
   "source": [
    "match = re.match(r'(\\d{3})-(\\d{4})', '867-5309')\n",
    "if match:\n",
    "    print(f'group 1: {match.group(1)}')\n",
    "    print(f'group 2: {match[2]}')\n",
    "    print(f'try a tuple: {match.group(1, 2)}')\n",
    "    print(f'group 1 matched the range {match.span(1)}')\n",
    "    print(f'group 2 matched the range ({match.start(2)}, {match.end(2)})')\n",
    "    print(f'original pattern: {match.re}')"
   ]
  },
  {
   "cell_type": "markdown",
   "metadata": {},
   "source": [
    "## tips and tricks\n",
    "\n",
    "* verbose mode\n",
    "* to compile or not\n",
    "* `re.escape` [doc](https://docs.python.org/3/library/re.html#re.escape)\n",
    "* `match.expand` [doc](https://docs.python.org/3/library/re.html#re.Match.expand)\n",
    "* non-greedy (sometimes called \"lazy\") matching"
   ]
  },
  {
   "cell_type": "markdown",
   "metadata": {},
   "source": [
    "#### Simple string operations vs. `re` calls"
   ]
  },
  {
   "cell_type": "code",
   "execution_count": 26,
   "metadata": {},
   "outputs": [
    {
     "name": "stdout",
     "output_type": "stream",
     "text": [
      "27.8 ns ± 4.73 ns per loop (mean ± std. dev. of 7 runs, 10000000 loops each)\n"
     ]
    }
   ],
   "source": [
    "%timeit 'cat' == 'cat'"
   ]
  },
  {
   "cell_type": "code",
   "execution_count": 27,
   "metadata": {},
   "outputs": [
    {
     "name": "stdout",
     "output_type": "stream",
     "text": [
      "42.7 ns ± 3.94 ns per loop (mean ± std. dev. of 7 runs, 10000000 loops each)\n"
     ]
    }
   ],
   "source": [
    "%timeit 'cat' in 'dog-catcher'"
   ]
  },
  {
   "cell_type": "code",
   "execution_count": 28,
   "metadata": {},
   "outputs": [
    {
     "name": "stdout",
     "output_type": "stream",
     "text": [
      "118 ns ± 5.44 ns per loop (mean ± std. dev. of 7 runs, 10000000 loops each)\n"
     ]
    }
   ],
   "source": [
    "%timeit 'catchy'.startswith('cat')"
   ]
  },
  {
   "cell_type": "code",
   "execution_count": 29,
   "metadata": {},
   "outputs": [
    {
     "name": "stdout",
     "output_type": "stream",
     "text": [
      "743 ns ± 32.2 ns per loop (mean ± std. dev. of 7 runs, 1000000 loops each)\n"
     ]
    }
   ],
   "source": [
    "%timeit re.search('cat', 'dog-catcher')"
   ]
  },
  {
   "cell_type": "code",
   "execution_count": 30,
   "metadata": {
    "scrolled": true
   },
   "outputs": [
    {
     "name": "stdout",
     "output_type": "stream",
     "text": [
      "822 ns ± 34.8 ns per loop (mean ± std. dev. of 7 runs, 1000000 loops each)\n"
     ]
    }
   ],
   "source": [
    "%timeit re.fullmatch('cat', 'cat')"
   ]
  },
  {
   "cell_type": "code",
   "execution_count": 31,
   "metadata": {},
   "outputs": [
    {
     "name": "stdout",
     "output_type": "stream",
     "text": [
      "830 ns ± 25.4 ns per loop (mean ± std. dev. of 7 runs, 1000000 loops each)\n"
     ]
    }
   ],
   "source": [
    "%timeit re.match('cat', 'catchy')"
   ]
  },
  {
   "cell_type": "markdown",
   "metadata": {},
   "source": [
    "The conclusion is: if your regular expression is a simple string, it's way faster, simpler, and easier reading to use simple string operations.  If it's a file-system path, you probably want to be working mostly with `pathlib`, `os.path`, or possibly `glob`.  Although I parse URLs below, you *really* want to be using `urllib.parse`.  Sometimes regular expressions are not how you want to parse things like logs.  Depending on the log format, you might actually have better success with `csv`."
   ]
  },
  {
   "cell_type": "markdown",
   "metadata": {},
   "source": [
    "## common pitfalls\n",
    "\n",
    "* failure to make your pattern a raw string\n",
    "* not understanding `re.MULTILINE` (which we'll use below) and `re.DOTALL`\n",
    "* mixing `str` with `bytes`\n",
    "* trying to [parse HTML](https://stackoverflow.com/questions/1732348/regex-match-open-tags-except-xhtml-self-contained-tags/1732454#1732454) or balance parens"
   ]
  },
  {
   "cell_type": "markdown",
   "metadata": {},
   "source": [
    "## Real-World(ish) Examples\n",
    "\n",
    "### parsing URLs"
   ]
  },
  {
   "cell_type": "code",
   "execution_count": 32,
   "metadata": {},
   "outputs": [
    {
     "name": "stdout",
     "output_type": "stream",
     "text": [
      "full url: https://google.com\n",
      "protocol: \u001b[32mhttps\u001b[0m\n",
      "    host: \u001b[32mgoogle.com\u001b[0m\n",
      "\n",
      "full url: https://google.com/\n",
      "protocol: \u001b[32mhttps\u001b[0m\n",
      "    host: \u001b[32mgoogle.com\u001b[0m\n",
      "    path: \u001b[32m/\u001b[0m\n",
      "\n",
      "full url: https://www.kidsa-z.com/main/Activity/reading\n",
      "protocol: \u001b[32mhttps\u001b[0m\n",
      "    host: \u001b[32mwww.kidsa-z.com\u001b[0m\n",
      "    path: \u001b[32m/main/Activity/reading\u001b[0m\n",
      "\n",
      "full url: http://local.kidsa-z.com:8088/main/Activity/reading?module=razkids\n",
      "protocol: \u001b[32mhttp\u001b[0m\n",
      "    host: \u001b[32mlocal.kidsa-z.com\u001b[0m\n",
      "    port: \u001b[32m8088\u001b[0m\n",
      "    path: \u001b[32m/main/Activity/reading\u001b[0m\n",
      "   query: \u001b[32mmodule=razkids\u001b[0m\n",
      "\n",
      "full url: https://github.com/wolf/re-presentation.git\n",
      "protocol: \u001b[32mhttps\u001b[0m\n",
      "    host: \u001b[32mgithub.com\u001b[0m\n",
      "    path: \u001b[32m/wolf/re-presentation.git\u001b[0m\n",
      "\n",
      "full url: https://www.amazon.com/Mastering-Regular-Expressions-Techniques-Handbooks/dp/1565922573\n",
      "protocol: \u001b[32mhttps\u001b[0m\n",
      "    host: \u001b[32mwww.amazon.com\u001b[0m\n",
      "    path: \u001b[32m/Mastering-Regular-Expressions-Techniques-Handbooks/dp/1565922573\u001b[0m\n",
      "\n"
     ]
    }
   ],
   "source": [
    "# (?P<name>...) is a special group: named capturing group\n",
    "# and we'll use verbose mode to make a hard pattern a little easier\n",
    "# but really you should be using urllib.parse\n",
    "\n",
    "url_pattern_str = r'''\n",
    "    (?P<protocol>  # URL protocol, required and captured\n",
    "      http s?      # the 's' in 'https' is optional\n",
    "    )\n",
    "    ://            # required, but not captured\n",
    "    (?P<host>      # host, required _and_ captured\n",
    "      [^/:]+       # ...stops at the first slash or colon\n",
    "    )\n",
    "    (?:            # an optional group for the port\n",
    "      :            # ...so we don't capture the colon\n",
    "      (?P<port>    # optional (because of the containing group), but captured\n",
    "          \\d+      # the port is all digits\n",
    "      )\n",
    "    )?\n",
    "    (?P<path>      # path, optional but captured\n",
    "      /[^?]*       # ...stops at the first question mark\n",
    "    )?\n",
    "    (?:            # an optional group for the query\n",
    "      \\?           # ...so we don't capture the '?' that starts a query\n",
    "      (?P<query>\n",
    "          .+       # everything _after_ the question mark is the query itself\n",
    "      )\n",
    "    )?\n",
    "'''\n",
    "url_pattern = re.compile(url_pattern_str, re.VERBOSE)\n",
    "\n",
    "urls = [\n",
    "    'https://google.com',\n",
    "    'https://google.com/',\n",
    "    'https://www.kidsa-z.com/main/Activity/reading',\n",
    "    'http://local.kidsa-z.com:8088/main/Activity/reading?module=razkids',\n",
    "    'https://github.com/wolf/re-presentation.git',\n",
    "    'https://www.amazon.com/Mastering-Regular-Expressions-Techniques-Handbooks/dp/1565922573',\n",
    "]\n",
    "\n",
    "for url in urls:\n",
    "    print(f'full url: {url}')\n",
    "    match = url_pattern.match(url)\n",
    "\n",
    "    for group_name in url_pattern.groupindex.keys():\n",
    "        if match[group_name]:\n",
    "            print(f'{group_name:>8}:', colored(f'{match[group_name]}', 'green'))\n",
    "    print()"
   ]
  },
  {
   "cell_type": "markdown",
   "metadata": {},
   "source": [
    "### extracting flags from a status page (abridged)"
   ]
  },
  {
   "cell_type": "code",
   "execution_count": 33,
   "metadata": {
    "scrolled": false
   },
   "outputs": [
    {
     "name": "stdout",
     "output_type": "stream",
     "text": [
      "ACCESS_CONTROL_USAGE_REPORTING_EMAIL\n",
      "ACCOUNTS_REGISTER_USER_CHANGES\n",
      "ACTIVITY_TESTLET_RENAME\n",
      "ALLOW_MULTIPLE_ACTIVE_QUOTES\n",
      "ANDROID_TEACHER_MESSAGES\n",
      "ANGULARJS_TEACHER_LOGIN_MENU\n",
      "ANGULARJS_VIDEO_LIBRARY\n",
      "ANGULAR_LEVELED_TEXTS_RESOURCE_CARDS\n",
      "ANGULAR_RESOURCE_CARD_MEMBER_HOME\n",
      "APNS_NOTIFICATIONS_FOR_CRON\n",
      "ASSESSMENT_PUSH_NOTIFICATION\n",
      "ASSESSMENT_PUSH_NOTIFICATION_FOR_APNS\n",
      "ASSESSMENT_REPORT_REDESIGN\n",
      "ASSIGNMENTS_REPORT\n",
      "ASSIGNMENT_PUSH_NOTIFICATION_FOR_APNS\n",
      "AVATAR_BUILDER_REDESIGN\n",
      "BATCHADD_REFACTORED_ADDORUPDATEUSERS\n",
      "BATCH_ENTER_WORDS\n",
      "BRAINHONEY_LINK_HEADSPROUT\n",
      "BRAINHONEY_LINK_KIDSAZ\n",
      "BRAINHONEY_LINK_RAZ\n",
      "BRAINHONEY_LINK_RAZKIDS\n",
      "BRAINHONEY_LINK_SAZ\n",
      "BRAINHONEY_LINK_WAZ\n",
      "CDN_SERVES_PROTECTED_CONTENT\n",
      "CLASSROOM_REPORTS_ANGULAR_UI_ROUTING\n",
      "CLASS_REPORTS_REDESIGN\n",
      "CLEAR_SESSION_FOR_SSO_AUTHENTICATION\n",
      "CLOSE_READS_SPLIT\n",
      "CMS_STICKER_BOOK\n",
      "COMP_SKILL_PACKS_ASSIGN_GRADE_1_AND_2\n",
      "COMP_SKILL_PACK_UPDATES\n",
      "CONSTRUCTED_RESPONSE_TOGGLE\n",
      "CSI_ACCESS_TO_CDN\n",
      "CSI_ACCESS_TO_CDN_DEFAULT\n",
      "CSI_ACCESS_TO_CDN_GEOGRAPHY\n",
      "CSI_ANGULAR_BUNDLE\n",
      "CSI_SOLR_SEARCH\n",
      "CSI_SSO_AUTHENTICATION\n",
      "DAY_PASS_SLIDER\n",
      "DEMO_ROSTER\n",
      "DEMO_ROSTER_ACTIVITY\n",
      "DEVICE_TRACKING\n",
      "DISABLE_ACT_ON_EMAIL_CREATE\n",
      "DISABLE_ACT_ON_EMAIL_SEND\n",
      "DOUBLE_STAR_BOOKS\n",
      "ELL_CONTENT_AREA\n",
      "ELL_CONTENT_GRAMMAR_SKILL\n",
      "ELL_DOWNLOAD_REPORT\n",
      "ELL_GRAMMAR_RESOURCES\n",
      "ELL_GRAMMAR_VIDEO\n",
      "EL_EXCLUDE_HOME_SUB_FROM_RENEWAL_RATE\n",
      "EL_SFC_CONTRACT_SYNC_ERROR_REPORT\n",
      "ENABLE_CROSS_SERVER_QUERY_SPLITTING\n",
      "EUROPEAN_CURRICULUM_STANDARDS\n",
      "EXPANDED_EL_PRODUCT_CODES\n",
      "FF_DARKMODE\n",
      "FF_RTW_SSO\n",
      "FILE_CABINET_CUSTOM_STANDARDS\n",
      "FILE_CABINET_RESOURCE_LIST_VIEW\n",
      "FILE_CABINET_STANDARDS\n",
      "FOUNDATIONAL_SKILLS_REFINEMENT\n",
      "GRADE_LEVEL_BANNER\n",
      "HEADSPROUT_COMPREHENSION_SKILL_REPORT\n",
      "HEADSPROUT_DASHBOARD\n",
      "HEADSPROUT_EARLY_READING_SKILL_REPORT\n",
      "HEADSPROUT_HSARC_BENCHMARKS\n",
      "HEADSPROUT_RC2\n",
      "HIDE_SCIENCE_QUESTION_TYPE_SKILLS\n",
      "HIGH_LOW_GRAPHICS\n",
      "HIGH_LOW_TEXT_SETS\n",
      "HS_HTML5\n",
      "IGNITE_READING_ROOM_COLLECTIONS\n",
      "INCOMPLETE_ACTIVITY_BATCH_CLEANUP\n",
      "IP_COUNTRY_REDIRECT\n",
      "K3000_BIBLIOGRAPHY_TOOL\n",
      "K3000_CUSTOMIZE_TOOLBARS\n",
      "K3000_NEW_UI\n",
      "K3000_NEW_WORD_PREDICTION_ENGINE\n",
      "K3000_NEW_WORD_PREDICTION_UI\n",
      "K3000_OFFLINE_MODE2\n",
      "K3000_SPEECH_TO_TEXT\n",
      "KAZ_ANGULARJS_OMNIPRESENT\n",
      "KAZ_GOOGLE_OAUTH2_SSO\n",
      "KAZ_REMOVE_SAZ_UNIT_ASSIGN\n",
      "KAZ_STUDENT_SESSION_TIMEOUT_MODAL\n",
      "KIDSA-Z\n",
      "KIDS_WALK_ME_MODULES\n",
      "KI_CSI_TAX\n",
      "LAZ_CMS_SYNCWORDS_API\n",
      "LAZ_CSI_TAX\n",
      "LAZ_SALESFORCE_OPPORTUNITY_PRODUCT_SYNC\n",
      "LAZ_SALESFORCE_OPPORTUNITY_SYNC\n",
      "LAZ_SALES_REP_TERRITORY_ASSIGNMENTS\n",
      "LAZ_SFC_OPTOUT_EVENTS\n",
      "LAZ_SSO_DISTRICT_GROUPING\n",
      "LAZ_STANDARDIZED_DISCOUNTS\n",
      "LEVELED_BOOK_LESSONS\n",
      "LEVEL_PROGRESS_REPORT_REDESIGN\n",
      "LOGIN_PUSH_NOTIFICATION\n",
      "LOG_SSO_NON_EXCEPTION_AUTHENTICATION_FAILURES\n",
      "MEMBER_TEACHER_CODE\n",
      "MOBILE_APP_SSO_REDIRECT\n",
      "MOBILE_OFFLINE_MODE\n",
      "MOBILE_PARENT_PORTAL\n",
      "MOBILE_PUSH_NOTIFICATION\n",
      "MOBILE_READING_ROOM_REDESIGN\n",
      "MOBILE_SAZ_UNIT_ASSIGNMENT\n",
      "MULTILEVEL_ISL\n",
      "MULTIPLE_CLASSROOMS_MODEL_LICENSE_COMPLIANCE\n",
      "NEW_CSI_URL_MAPPING\n",
      "NEW_PLACEMENT_SEGMENTS\n",
      "NEXT_GENERATION_SCIENCE_STANDARDS_STORYLINES\n",
      "NON_FICTION_SERIES_NATIONAL_PARKS\n",
      "ORDER_NOW_REDESIGN_CLIENT\n",
      "OVERRIDE_AND_PAY_TAX_SERVICE_FAILURE_BILLS\n",
      "PARDOT_OPT_IN_OUT_SYNC\n",
      "PAY_BY_CREDIT_CARD\n",
      "PHOTO_CREDITS\n",
      "POPULAR_BOOKS\n",
      "PROCESS_ORDER_REFACTORING\n",
      "PROFILE_PHOTO_UPLOAD\n",
      "PROJECTABLE_BOOK_TIME_TRACKING\n",
      "PURCHASE_ELL_IN_SHOPPING_CART\n",
      "RAZ-CMS-PRODUCT-UPDATES\n",
      "RAZPLUS_RESOURCENAV_2019\n",
      "RAZPLUS_UPGRADE\n",
      "RAZPLUS_UPGRADE_SSS\n",
      "RAZPLUS_UPGRADE_TRIAL\n",
      "RAZ_COMMON_CORE\n",
      "RAZ_PLUS_COLLECTIONS\n",
      "RAZ_PLUS_NONMEMBER_HOME_REDESIGN\n",
      "RAZ_PLUS_SAMPLE_KIT_REDESIGN\n",
      "RAZ_TUTORING\n",
      "READERS_THEATER_LEVELS\n",
      "READING_ROOM_FAVORITE_THEMES\n",
      "READYTEST_DASHBOARD\n",
      "READYTEST_SUNSET\n",
      "REDIRECT_STUDENT_SSO_LOGOUT\n",
      "REMOVE_READY_TEST_FROM_BUNDLE_BAR\n",
      "RENEWAL_REPORT_EARLY_RENEWALS\n",
      "RK_ROCKET_AUDIO\n",
      "ROLLUP_READING_ASSIGNMENT_PROGRESS_HISTORY\n",
      "ROSTER_PAGE_GRADE_TUTORIAL\n",
      "ROSTER_STUDENT_XFER\n",
      "SALES_TRACKING_SOLR_SEARCH\n",
      "SAVE_PROJECTABLE_MARKUP\n",
      "SAZ_FILE_CABINET\n",
      "SAZ_STEM_SCOPES_CORRELATIONS\n",
      "SAZ_TARGETED\n",
      "SERVER_INFO_LOGGING\n",
      "SESSION_TIMEOUT_MODAL\n",
      "SESSION_TIMEOUT_MODAL_ACCOUNTS\n",
      "SHARED_STUDENTS_READING_ROOM_SETTINGS\n",
      "SHOW_MANAGED_REP_QUOTES\n",
      "SOLR_CANVAS_SEARCH\n",
      "SOLR_CMS_SEARCH\n",
      "SOLR_RAZ_SEARCH\n",
      "SOLR_RAZ_SEARCH_HISTORY\n",
      "SOLR_RAZ_SPELLCHECK\n",
      "SOLR_RK_SEARCH\n",
      "SOLR_RK_SEARCH_HISTORY\n",
      "SOLR_SAZ_SEARCH\n",
      "SOLR_SAZ_SEARCH_HISTORY\n",
      "SOLR_WAZ_SEARCH\n",
      "SOLR_WAZ_SEARCH_HISTORY\n",
      "SPANISH_HF_WORDS_ASSESSMENT\n",
      "SPANISH_QUIZZES\n",
      "STAGE_CATALOG_REQUESTS\n",
      "STOP_KEPLER_CONTRACT_CREATION\n",
      "STORYLINE_CUSTOM_VIDEOS\n",
      "STORYLINE_WORKSHEETS\n",
      "STUDENT_BADGES\n",
      "SYNC_ALL_EMAIL_OPT_IN_OUT_TO_SALESFORCE\n",
      "TAX_REPORTS_QUERIES_TAX_PRODUCT_FIX\n",
      "TEACHER_GRADE_LEVEL_CONFIRMATION\n",
      "TEACHER_ROSTER_QUICK_STATS\n",
      "TEXT_SET_ASSIGNING\n",
      "TEXT_SET_READING_ROOM_COLLECTIONS\n",
      "TOPIC_DASHBOARD\n",
      "USE_JDE_CATALOG_WEB_SERVICE\n",
      "VAZ_PREMADE_NAV_REDESIGN\n",
      "VAZ_REDESIGN_LESSON_WORD_ORDER\n",
      "VAZ_SKILL_REPORT\n",
      "VAZ_TOPIC_DESCRIPTIONS\n",
      "VAZ_TOPIC_LESSON_NAMES\n",
      "VSC_CUSTOM_LIST_FLAG\n",
      "WEB_LISTEN_WITH_ANIMATION\n"
     ]
    }
   ],
   "source": [
    "import os.path\n",
    "\n",
    "# I've cleaned partial-web-page-dump.txt of passwords, but I still don't want\n",
    "# to check it into the repository.  I'll just make this cell take a pass if\n",
    "# you don't have it.  Which you don't.\n",
    "\n",
    "if os.path.exists('partial-web-page-dump.txt'):\n",
    "    with open('partial-web-page-dump.txt', 'r') as f:\n",
    "        text = f.read()\n",
    "\n",
    "    enabled_features_pattern = re.compile('enabledFeatures[^\\(]+\\(([^\\)]*)\\)', re.MULTILINE)\n",
    "    enabled_features = enabled_features_pattern.search(text)\n",
    "\n",
    "    # The switch itself is the thing inside the single quotes\n",
    "    switch_pattern = re.compile(\"'(.+?)' => true\", re.MULTILINE)\n",
    "    switches = set(switch_pattern.findall(text, *enabled_features.span()))\n",
    "\n",
    "    print('\\n'.join(sorted(switches)))"
   ]
  }
 ],
 "metadata": {
  "kernelspec": {
   "display_name": "Python 3",
   "language": "python",
   "name": "python3"
  },
  "language_info": {
   "codemirror_mode": {
    "name": "ipython",
    "version": 3
   },
   "file_extension": ".py",
   "mimetype": "text/x-python",
   "name": "python",
   "nbconvert_exporter": "python",
   "pygments_lexer": "ipython3",
   "version": "3.7.1"
  }
 },
 "nbformat": 4,
 "nbformat_minor": 2
}
