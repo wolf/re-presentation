{
 "cells": [
  {
   "cell_type": "code",
   "execution_count": 2,
   "metadata": {
    "collapsed": true
   },
   "outputs": [],
   "source": [
    "import re"
   ]
  },
  {
   "cell_type": "markdown",
   "metadata": {},
   "source": [
    "* regular expressions themselves\n",
    "    * simple characters\n",
    "    * character sets\n",
    "        * inverted sets\n",
    "        * ranges\n",
    "        * shortcuts\n",
    "    * repetition\n",
    "    * alternation\n",
    "    * groups\n",
    "        * non-capturing\n",
    "        * capturing, and capturing with a name\n",
    "        * back-references\n",
    "* the `re` module\n",
    "    * regular expression strings (already discussed)\n",
    "    * compiled patterns\n",
    "        * `match` vs. `search`\n",
    "        * \n",
    "    * strings to be searched\n",
    "    * match objects\n",
    "    * other interesting functions\n",
    "* tips and tricks\n",
    "    * verbose mode\n",
    "    * to compile or not\n",
    "    * greedy or not\n",
    "    * using a function argument in `sub` and `subn`\n",
    "    * setting flags within the regex\n",
    "    * when to use alternatives (e.g., `os.path`, `glob`, `regex`)\n",
    "* real-world examples\n",
    "* common pitfalls\n",
    "    * failure to use a raw string\n",
    "    * not understanding re.MULTILINE, re.DOTALL\n",
    "    * mixing str and bytes\n"
   ]
  },
  {
   "cell_type": "code",
   "execution_count": 15,
   "metadata": {
    "collapsed": false
   },
   "outputs": [
    {
     "name": "stdout",
     "output_type": "stream",
     "text": [
      "[('First ', 'line'), ('Second ', 'line')]\n",
      "First line.\n",
      "Second line.\n",
      "\n"
     ]
    }
   ],
   "source": [
    "import io\n",
    "\n",
    "output = io.StringIO()\n",
    "output.write('First line.\\n')\n",
    "print('Second line.', file=output)\n",
    "\n",
    "pattern = re.compile(r'^(.*)(line)\\.$', re.MULTILINE)\n",
    "m = pattern.findall(output.getvalue())\n",
    "print(m)\n",
    "print(output.getvalue())"
   ]
  },
  {
   "cell_type": "code",
   "execution_count": 5,
   "metadata": {
    "collapsed": false
   },
   "outputs": [],
   "source": [
    "pattern_test_str = r'(?i)goodbye'\n",
    "pattern_test = re.compile(pattern_test_str)"
   ]
  },
  {
   "cell_type": "code",
   "execution_count": 25,
   "metadata": {
    "collapsed": false
   },
   "outputs": [],
   "source": [
    "pattern_str = r'''(?P<protocol>    # URL protocol, required and captured\n",
    "                      https?       # the 's' is optional\n",
    "                  )\n",
    "                  ://              # required, but not captured\n",
    "                  (?P<host>        # host, required and captured\n",
    "                      [^/:]+       # ...stops at the first slash or colon\n",
    "                  )\n",
    "                  (?:              # an optional group for the port\n",
    "                      :            # ...so we don't capture the colon\n",
    "                      (?P<port>    # optional (because of the containing group), but captured\n",
    "                          \\d+      # the port is all digits\n",
    "                      )\n",
    "                  )?\n",
    "                  (?P<path>        # path, optional but captured\n",
    "                      /[^?]*       # ...stops at the first question mark\n",
    "                  )?\n",
    "                  (?:              # an optional group for the query\n",
    "                      \\?           # ...so we don't capture the '?'\n",
    "                      (?P<query>\n",
    "                          .+       # everything _after_ the question mark is the query\n",
    "                      )\n",
    "                  )?\n",
    "               '''\n",
    "pattern = re.compile(pattern_str, re.X)"
   ]
  },
  {
   "cell_type": "code",
   "execution_count": 26,
   "metadata": {
    "collapsed": false
   },
   "outputs": [
    {
     "name": "stdout",
     "output_type": "stream",
     "text": [
      "('http', 'www.learninga-z.com', None, '/main/landing', 'module=razkids')\n"
     ]
    }
   ],
   "source": [
    "match = pattern.match(r'http://www.learninga-z.com/main/landing?module=razkids')\n",
    "print(match.groups())"
   ]
  },
  {
   "cell_type": "code",
   "execution_count": 33,
   "metadata": {
    "collapsed": false
   },
   "outputs": [
    {
     "name": "stdout",
     "output_type": "stream",
     "text": [
      "host: www.learninga-z.com\n",
      "path: /main/landing\n",
      "protocol: http\n",
      "query: module=razkids\n"
     ]
    }
   ],
   "source": [
    "for group_name in sorted(pattern.groupindex.keys()):\n",
    "    if match[group_name]:\n",
    "        print(f\"{group_name}: {match[group_name]}\")"
   ]
  },
  {
   "cell_type": "code",
   "execution_count": null,
   "metadata": {
    "collapsed": true
   },
   "outputs": [],
   "source": []
  }
 ],
 "metadata": {
  "kernelspec": {
   "display_name": "Python 3",
   "language": "python",
   "name": "python3"
  },
  "language_info": {
   "codemirror_mode": {
    "name": "ipython",
    "version": 3
   },
   "file_extension": ".py",
   "mimetype": "text/x-python",
   "name": "python",
   "nbconvert_exporter": "python",
   "pygments_lexer": "ipython3",
   "version": "3.6.3"
  }
 },
 "nbformat": 4,
 "nbformat_minor": 2
}
