{
 "cells": [
  {
   "cell_type": "code",
   "execution_count": 1,
   "metadata": {},
   "outputs": [],
   "source": [
    "import re"
   ]
  },
  {
   "cell_type": "markdown",
   "metadata": {},
   "source": [
    "## regular expressions themselves\n",
    "\n",
    "### what is a regular expression?\n",
    "\n",
    "A regular expression is a formal description of a set of strings and a well-known collection of rules to know if any given string is *in* that set.  If a string is in the set, the regular expression is said to *match* that string.  The formal description is often referred to as the *pattern*.  The `re` module has a function to test if a regular expression matches a string: `re.match(pattern, string)`.\n",
    "\n",
    "This document is about regular expressions (sometimes called regexes) and the `re` module from Python 3.7.  Most of it applies to earlier versions of Python but your mileage may vary."
   ]
  },
  {
   "cell_type": "code",
   "execution_count": 2,
   "metadata": {},
   "outputs": [],
   "source": [
    "from termcolor import colored\n",
    "\n",
    "def demo(pattern, match_against, fn=None, show_location=False):\n",
    "    \"\"\"demo is built around re.match, but applied to a list of strings\n",
    "       instead of a single string; and it prints a message for each, appropriate\n",
    "       to a demonstration.  It uses colors and bold to make things nice.\n",
    "    \"\"\"\n",
    "    compiled_pattern = re.compile(pattern)  # don't really need to do this, but it's good form\n",
    "    if isinstance(match_against, str):  # OK, it takes a list, but if you give it a single string it still works\n",
    "        match_against = [ match_against ]\n",
    "    if fn is None:\n",
    "        fn = re.match\n",
    "    else:\n",
    "        show_location = True\n",
    "        print(f'using re.{fn.__name__}, the pattern ', end='')\n",
    "\n",
    "    print(colored(f'{pattern}', 'blue', 'on_yellow', attrs=['bold']))\n",
    "    for string in match_against:\n",
    "        match = fn(pattern=compiled_pattern, string=string)\n",
    "        if match:\n",
    "            location_info = ''\n",
    "            r = match.span()\n",
    "            if show_location:\n",
    "                location_info = f'at {r[0]}-{r[1]} of '\n",
    "            print(f'  matches {location_info}', end='')\n",
    "            \n",
    "            print(colored(f'{string[:r[0]]}', 'green'), end='')\n",
    "            print(colored(f'{string[r[0]:r[1]]}', 'green', attrs=['bold']), end='')\n",
    "            print(colored(f'{string[r[1]:]}', 'green'))\n",
    "        else:\n",
    "            print(f'  does *not* match ', end='')\n",
    "            print(colored(f'{string}', 'red'))\n",
    "    print()"
   ]
  },
  {
   "cell_type": "markdown",
   "metadata": {},
   "source": [
    "As we progress, the patterns will look more and more complicated.  Don't be intimidated!"
   ]
  },
  {
   "cell_type": "code",
   "execution_count": 3,
   "metadata": {},
   "outputs": [
    {
     "name": "stdout",
     "output_type": "stream",
     "text": [
      "The pattern \"cat\" matches the string \"cat\"\n",
      "\u001b[1m\u001b[43m\u001b[34mcat\u001b[0m\n",
      "  does *not* match \u001b[31mdog\u001b[0m\n",
      "\n"
     ]
    }
   ],
   "source": [
    "# Simple characters like 'c', 'a', or 't', match themselves\n",
    "# Note that I specified the pattern as a raw string... make that a habit for yourself\n",
    "if re.match(pattern=r'cat', string='cat'):\n",
    "    print('The pattern \"cat\" matches the string \"cat\"')\n",
    "\n",
    "demo(pattern=r'cat', match_against='dog')"
   ]
  },
  {
   "cell_type": "markdown",
   "metadata": {},
   "source": [
    "`re.match` actually only tests that the string *starts* with a match.  Later we'll talk about `re.search` and `re.fullmatch`."
   ]
  },
  {
   "cell_type": "code",
   "execution_count": 4,
   "metadata": {},
   "outputs": [
    {
     "name": "stdout",
     "output_type": "stream",
     "text": [
      "\u001b[1m\u001b[43m\u001b[34mcat\u001b[0m\n",
      "  matches \u001b[32m\u001b[0m\u001b[1m\u001b[32mcat\u001b[0m\u001b[32mch\u001b[0m\n",
      "\n"
     ]
    }
   ],
   "source": [
    "demo(pattern=r'cat', match_against='catch')"
   ]
  },
  {
   "cell_type": "markdown",
   "metadata": {},
   "source": [
    "#### character sets "
   ]
  },
  {
   "cell_type": "code",
   "execution_count": 5,
   "metadata": {
    "scrolled": true
   },
   "outputs": [
    {
     "name": "stdout",
     "output_type": "stream",
     "text": [
      "\u001b[1m\u001b[43m\u001b[34mc[aou]t\u001b[0m\n",
      "  matches \u001b[32m\u001b[0m\u001b[1m\u001b[32mcat\u001b[0m\u001b[32m\u001b[0m\n",
      "  matches \u001b[32m\u001b[0m\u001b[1m\u001b[32mcot\u001b[0m\u001b[32me\u001b[0m\n",
      "  matches \u001b[32m\u001b[0m\u001b[1m\u001b[32mcut\u001b[0m\u001b[32me\u001b[0m\n",
      "  does *not* match \u001b[31mcity\u001b[0m\n",
      "\n"
     ]
    }
   ],
   "source": [
    "# Using a simple set: [aou]\n",
    "demo(pattern=r'c[aou]t', match_against=['cat', 'cote', 'cute', 'city'])"
   ]
  },
  {
   "cell_type": "code",
   "execution_count": 6,
   "metadata": {},
   "outputs": [
    {
     "name": "stdout",
     "output_type": "stream",
     "text": [
      "\u001b[1m\u001b[43m\u001b[34mc[^y]t\u001b[0m\n",
      "  matches \u001b[32m\u001b[0m\u001b[1m\u001b[32mcat\u001b[0m\u001b[32m\u001b[0m\n",
      "  matches \u001b[32m\u001b[0m\u001b[1m\u001b[32mcot\u001b[0m\u001b[32me\u001b[0m\n",
      "  does *not* match \u001b[31mcytoplasm\u001b[0m\n",
      "  matches \u001b[32m\u001b[0m\u001b[1m\u001b[32mcct\u001b[0m\u001b[32mv\u001b[0m\n",
      "\n"
     ]
    }
   ],
   "source": [
    "# Inverting a set: [^y]\n",
    "demo(r'c[^y]t', ['cat', 'cote', 'cytoplasm', 'cctv'])"
   ]
  },
  {
   "cell_type": "code",
   "execution_count": 7,
   "metadata": {},
   "outputs": [
    {
     "name": "stdout",
     "output_type": "stream",
     "text": [
      "\u001b[1m\u001b[43m\u001b[34m0x[a-f0-9]\u001b[0m\n",
      "  matches \u001b[32m\u001b[0m\u001b[1m\u001b[32m0x2\u001b[0m\u001b[32m\u001b[0m\n",
      "  matches \u001b[32m\u001b[0m\u001b[1m\u001b[32m0xc\u001b[0m\u001b[32m\u001b[0m\n",
      "  does *not* match \u001b[31m0xq\u001b[0m\n",
      "\n"
     ]
    }
   ],
   "source": [
    "# Using ranges: [a-f0-9]\n",
    "demo(r'0x[a-f0-9]', ['0x2', '0xc', '0xq'])"
   ]
  },
  {
   "cell_type": "code",
   "execution_count": 8,
   "metadata": {},
   "outputs": [
    {
     "name": "stdout",
     "output_type": "stream",
     "text": [
      "\u001b[1m\u001b[43m\u001b[34m\\d\\d\\d-\\d\\d\\d\\d\u001b[0m\n",
      "  does *not* match \u001b[31m555-12q2\u001b[0m\n",
      "  does *not* match \u001b[31m411\u001b[0m\n",
      "  matches \u001b[32m\u001b[0m\u001b[1m\u001b[32m867-5309\u001b[0m\u001b[32m\u001b[0m\n",
      "\n",
      "\u001b[1m\u001b[43m\u001b[34m\\d\\d\\d-\\d\\d.\\d\u001b[0m\n",
      "  matches \u001b[32m\u001b[0m\u001b[1m\u001b[32m555-12q2\u001b[0m\u001b[32m\u001b[0m\n",
      "  does *not* match \u001b[31m411\u001b[0m\n",
      "  matches \u001b[32m\u001b[0m\u001b[1m\u001b[32m867-5309\u001b[0m\u001b[32m\u001b[0m\n",
      "\n"
     ]
    }
   ],
   "source": [
    "# Using shortcut: \\d == [0-9]; . == [^\\n]\n",
    "demo(r'\\d\\d\\d-\\d\\d\\d\\d', ['555-12q2', '411', '867-5309'])\n",
    "demo(r'\\d\\d\\d-\\d\\d.\\d', ['555-12q2', '411', '867-5309'])"
   ]
  },
  {
   "cell_type": "markdown",
   "metadata": {},
   "source": [
    "#### repetition"
   ]
  },
  {
   "cell_type": "code",
   "execution_count": 9,
   "metadata": {
    "scrolled": true
   },
   "outputs": [
    {
     "name": "stdout",
     "output_type": "stream",
     "text": [
      "\u001b[1m\u001b[43m\u001b[34m\\d{3}-\\d{4}\u001b[0m\n",
      "  does *not* match \u001b[31m555-12q2\u001b[0m\n",
      "  does *not* match \u001b[31m411\u001b[0m\n",
      "  matches \u001b[32m\u001b[0m\u001b[1m\u001b[32m867-5309\u001b[0m\u001b[32m\u001b[0m\n",
      "\n",
      "\u001b[1m\u001b[43m\u001b[34m=\\w{3,5}=\u001b[0m\n",
      "  matches \u001b[32m\u001b[0m\u001b[1m\u001b[32m=cat=\u001b[0m\u001b[32m\u001b[0m\n",
      "  matches \u001b[32m\u001b[0m\u001b[1m\u001b[32m=catch=\u001b[0m\u001b[32m\u001b[0m\n",
      "  matches \u001b[32m\u001b[0m\u001b[1m\u001b[32m=dogs=\u001b[0m\u001b[32m\u001b[0m\n",
      "  does *not* match \u001b[31m=catchy=\u001b[0m\n",
      "  does *not* match \u001b[31m=my=\u001b[0m\n",
      "\n"
     ]
    }
   ],
   "source": [
    "# {min, max}, note that \\w == [a-zA-Z0-9_] (at least for ASCII)\n",
    "demo(r'\\d{3}-\\d{4}', ['555-12q2', '411', '867-5309'])\n",
    "demo(r'=\\w{3,5}=', ['=cat=', '=catch=', '=dogs=', '=catchy=', '=my='])"
   ]
  },
  {
   "cell_type": "code",
   "execution_count": 10,
   "metadata": {},
   "outputs": [
    {
     "name": "stdout",
     "output_type": "stream",
     "text": [
      "\u001b[1m\u001b[43m\u001b[34m\\d+\\s*-?\\s*\\d*\u001b[0m\n",
      "  matches \u001b[32m\u001b[0m\u001b[1m\u001b[32m555-\t1212\u001b[0m\u001b[32m\u001b[0m\n",
      "  matches \u001b[32m\u001b[0m\u001b[1m\u001b[32m411\u001b[0m\u001b[32m\u001b[0m\n",
      "  matches \u001b[32m\u001b[0m\u001b[1m\u001b[32m12345-\u001b[0m\u001b[32mabc\u001b[0m\n",
      "\n"
     ]
    }
   ],
   "source": [
    "# ?, +, *, Note that \\s is whitespace\n",
    "# ? == {0,1}, + == {1,}, * == {0,}\n",
    "demo(r'\\d+\\s*-?\\s*\\d*', ['555-\\t1212', '411', '12345-abc'])"
   ]
  },
  {
   "cell_type": "markdown",
   "metadata": {},
   "source": [
    "#### alternation"
   ]
  },
  {
   "cell_type": "code",
   "execution_count": 11,
   "metadata": {},
   "outputs": [
    {
     "name": "stdout",
     "output_type": "stream",
     "text": [
      "\u001b[1m\u001b[43m\u001b[34mcat|dog\u001b[0m\n",
      "  matches \u001b[32m\u001b[0m\u001b[1m\u001b[32mcat\u001b[0m\u001b[32mchy\u001b[0m\n",
      "  matches \u001b[32m\u001b[0m\u001b[1m\u001b[32mdog\u001b[0m\u001b[32m-lover\u001b[0m\n",
      "  does *not* match \u001b[31mapple pie\u001b[0m\n",
      "\n"
     ]
    }
   ],
   "source": [
    "# binds lower than other operators, so cat|dog does what it looks like\n",
    "demo(r'cat|dog', ['catchy', 'dog-lover', 'apple pie'])"
   ]
  },
  {
   "cell_type": "markdown",
   "metadata": {},
   "source": [
    "#### groups"
   ]
  },
  {
   "cell_type": "code",
   "execution_count": 12,
   "metadata": {},
   "outputs": [
    {
     "name": "stdout",
     "output_type": "stream",
     "text": [
      "\u001b[1m\u001b[43m\u001b[34m\\d{3}(-\\d{4})?\u001b[0m\n",
      "  matches \u001b[32m\u001b[0m\u001b[1m\u001b[32m555-1212\u001b[0m\u001b[32m\u001b[0m\n",
      "  matches \u001b[32m\u001b[0m\u001b[1m\u001b[32m411\u001b[0m\u001b[32m\u001b[0m\n",
      "\n",
      "\u001b[1m\u001b[43m\u001b[34m(\\w+) \\1\u001b[0m\n",
      "  does *not* match \u001b[31mabc def\u001b[0m\n",
      "  matches \u001b[32m\u001b[0m\u001b[1m\u001b[32mabc abc\u001b[0m\u001b[32m\u001b[0m\n",
      "\n",
      "\u001b[1m\u001b[43m\u001b[34mhref=([\\'\\\"]).*?\\1\u001b[0m\n",
      "  matches \u001b[32m\u001b[0m\u001b[1m\u001b[32mhref=\"hello\"\u001b[0m\u001b[32m\u001b[0m\n",
      "  matches \u001b[32m\u001b[0m\u001b[1m\u001b[32mhref='goodbye'\u001b[0m\u001b[32m\u001b[0m\n",
      "  does *not* match \u001b[31mhref='abc\"\u001b[0m\n",
      "\n"
     ]
    }
   ],
   "source": [
    "# the default kind of group, capturing, is specified with simple parens\n",
    "demo(r'\\d{3}(-\\d{4})?', ['555-1212', '411'])\n",
    "\n",
    "# When you've captured a group, you can reference it with a backslash\n",
    "demo(r'(\\w+) \\1', ['abc def', 'abc abc'])\n",
    "demo(r'href=([\\'\\\"]).*?\\1', ['href=\"hello\"', 'href=\\'goodbye\\'', 'href=\\'abc\"'])"
   ]
  },
  {
   "cell_type": "code",
   "execution_count": 13,
   "metadata": {},
   "outputs": [
    {
     "name": "stdout",
     "output_type": "stream",
     "text": [
      "\u001b[1m\u001b[43m\u001b[34m(?x)  # verbose mode\n",
      "    \\d{3}          # prefix\n",
      "    ( - \\d{4} )?   # optional\u001b[0m\n",
      "  matches \u001b[32m\u001b[0m\u001b[1m\u001b[32m555-1212\u001b[0m\u001b[32m\u001b[0m\n",
      "  matches \u001b[32m\u001b[0m\u001b[1m\u001b[32m411\u001b[0m\u001b[32m\u001b[0m\n",
      "\n"
     ]
    }
   ],
   "source": [
    "# special groups start with a '?' just inside the left paren\n",
    "# 'x' is the verbose flag, this is a flag-setting group\n",
    "# verbose mode lets me break apart the regex, even onto multiple lines\n",
    "demo(r'''(?x)  # verbose mode\n",
    "    \\d{3}          # prefix\n",
    "    ( - \\d{4} )?   # optional''', ['555-1212', '411'])"
   ]
  },
  {
   "cell_type": "code",
   "execution_count": 14,
   "metadata": {},
   "outputs": [
    {
     "name": "stdout",
     "output_type": "stream",
     "text": [
      "\u001b[1m\u001b[43m\u001b[34m(?i)abcXYZ\u001b[0m\n",
      "  matches \u001b[32m\u001b[0m\u001b[1m\u001b[32mabcxyz\u001b[0m\u001b[32m\u001b[0m\n",
      "  matches \u001b[32m\u001b[0m\u001b[1m\u001b[32mAbCXYz\u001b[0m\u001b[32m\u001b[0m\n",
      "\n",
      "\u001b[1m\u001b[43m\u001b[34m(?i:abc)XYZ\u001b[0m\n",
      "  does *not* match \u001b[31mabcxyz\u001b[0m\n",
      "  matches \u001b[32m\u001b[0m\u001b[1m\u001b[32mabcXYZ\u001b[0m\u001b[32m\u001b[0m\n",
      "  matches \u001b[32m\u001b[0m\u001b[1m\u001b[32mABCXYZ\u001b[0m\u001b[32m\u001b[0m\n",
      "\n"
     ]
    }
   ],
   "source": [
    "# setting flags for the whole pattern, for just a portion of the pattern\n",
    "# the 'i' flag makes the pattern case-insensitive\n",
    "demo(r'(?i)abcXYZ', ['abcxyz', 'AbCXYz'])\n",
    "demo(r'(?i:abc)XYZ', ['abcxyz', 'abcXYZ', 'ABCXYZ'])"
   ]
  },
  {
   "cell_type": "code",
   "execution_count": 15,
   "metadata": {},
   "outputs": [
    {
     "name": "stdout",
     "output_type": "stream",
     "text": [
      "\u001b[1m\u001b[43m\u001b[34mIsaac(?=\\s+Asimov)\u001b[0m\n",
      "  does *not* match \u001b[31mIsaac Newton\u001b[0m\n",
      "  matches at 0-5 of \u001b[32m\u001b[0m\u001b[1m\u001b[32mIsaac\u001b[0m\u001b[32m Asimov\u001b[0m\n",
      "\n",
      "\u001b[1m\u001b[43m\u001b[34mIsaac(?!\\s+Newton)\u001b[0m\n",
      "  does *not* match \u001b[31mIsaac Newton\u001b[0m\n",
      "  matches at 0-5 of \u001b[32m\u001b[0m\u001b[1m\u001b[32mIsaac\u001b[0m\u001b[32m Asimov\u001b[0m\n",
      "\n",
      "using re.search, the pattern \u001b[1m\u001b[43m\u001b[34m(?<!particle)-physics\u001b[0m\n",
      "  matches at 7-15 of \u001b[32mnuclear\u001b[0m\u001b[1m\u001b[32m-physics\u001b[0m\u001b[32m\u001b[0m\n",
      "  does *not* match \u001b[31mparticle-physics\u001b[0m\n",
      "\n",
      "using re.search, the pattern \u001b[1m\u001b[43m\u001b[34m(?<=nuclear)-physics\u001b[0m\n",
      "  matches at 7-15 of \u001b[32mnuclear\u001b[0m\u001b[1m\u001b[32m-physics\u001b[0m\u001b[32m\u001b[0m\n",
      "  does *not* match \u001b[31mparticle-physics\u001b[0m\n",
      "\n"
     ]
    }
   ],
   "source": [
    "# assertions, positive and negative look-ahead (specialized groups)\n",
    "# `re.match`: the pattern must match at the beginning of the string;\n",
    "# `re.search`: the pattern can match anywhere inside the string\n",
    "demo(r'Isaac(?=\\s+Asimov)', ['Isaac Newton', 'Isaac Asimov'], show_location=True)\n",
    "demo(r'Isaac(?!\\s+Newton)', ['Isaac Newton', 'Isaac Asimov'], show_location=True)\n",
    "demo(r'(?<!particle)-physics', ['nuclear-physics', 'particle-physics'], fn=re.search)\n",
    "demo(r'(?<=nuclear)-physics', ['nuclear-physics', 'particle-physics'], fn=re.search)"
   ]
  },
  {
   "cell_type": "markdown",
   "metadata": {},
   "source": [
    "#### special matches\n",
    "\n",
    "Look-ahead and look-behind are a special form of match instruction called an 'assertion'.  They match zero characters, but still influence where the actual match can happen.  Here are a couple of other zero-length assertions:"
   ]
  },
  {
   "cell_type": "code",
   "execution_count": 16,
   "metadata": {},
   "outputs": [
    {
     "name": "stdout",
     "output_type": "stream",
     "text": [
      "\u001b[1m\u001b[43m\u001b[34mcat\\b\u001b[0m\n",
      "  matches at 0-3 of \u001b[32m\u001b[0m\u001b[1m\u001b[32mcat\u001b[0m\u001b[32m\u001b[0m\n",
      "  does *not* match \u001b[31mcatchy\u001b[0m\n",
      "  matches at 0-3 of \u001b[32m\u001b[0m\u001b[1m\u001b[32mcat\u001b[0m\u001b[32m-call\u001b[0m\n",
      "\n",
      "\u001b[1m\u001b[43m\u001b[34mcat\\B\u001b[0m\n",
      "  does *not* match \u001b[31mcat\u001b[0m\n",
      "  matches at 0-3 of \u001b[32m\u001b[0m\u001b[1m\u001b[32mcat\u001b[0m\u001b[32mchy\u001b[0m\n",
      "  does *not* match \u001b[31mcat-call\u001b[0m\n",
      "\n",
      "using re.search, the pattern \u001b[1m\u001b[43m\u001b[34m^abc\u001b[0m\n",
      "  matches at 0-3 of \u001b[32m\u001b[0m\u001b[1m\u001b[32mabc\u001b[0m\u001b[32mb\u001b[0m\n",
      "  does *not* match \u001b[31mbbabc\u001b[0m\n",
      "\n",
      "using re.search, the pattern \u001b[1m\u001b[43m\u001b[34mabc$\u001b[0m\n",
      "  does *not* match \u001b[31mabcb\u001b[0m\n",
      "  matches at 2-5 of \u001b[32mbb\u001b[0m\u001b[1m\u001b[32mabc\u001b[0m\u001b[32m\u001b[0m\n",
      "\n"
     ]
    }
   ],
   "source": [
    "# beginning or end of a word, or not (zero-length)\n",
    "demo(r'cat\\b', ['cat', 'catchy', 'cat-call'], show_location=True)\n",
    "demo(r'cat\\B', ['cat', 'catchy', 'cat-call'], show_location=True)\n",
    "\n",
    "# beginning or end of the string (zero-length)\n",
    "demo(r'^abc', ['abcb', 'bbabc'], fn=re.search)\n",
    "demo(r'abc$', ['abcb', 'bbabc'], fn=re.search)"
   ]
  },
  {
   "cell_type": "markdown",
   "metadata": {},
   "source": [
    "## the `re` module\n",
    "\n",
    "We've already discussed pattern strings and the strings against which we are matching.  Let's talk about the other nouns in the `re` world: compiled patterns, match objects, and the `re` module itself.  To get a compiled pattern, call `re.compile(pattern_string, flags=0)`.  A compiled pattern has method calls that are mirrored in the `re` module:\n",
    "\n",
    "* `match`, `search`, `fullmatch`\n",
    "* `split`\n",
    "* `findall`, `finditer`\n",
    "* `sub`, `subn`\n",
    "\n",
    "The `re` versions take a compiled pattern *or* a pattern-string; the compiled pattern versions take (optionally) string indeces.  So for example:\n",
    "\n",
    "`re.match(pattern, string, flags=0)` [doc](https://docs.python.org/3.7/library/re.html#re.match) vs.<br/>\n",
    "`pattern.match(string[, pos[, endpos]])` [doc](https://docs.python.org/3.7/library/re.html#re.Pattern.match)"
   ]
  },
  {
   "cell_type": "code",
   "execution_count": 17,
   "metadata": {},
   "outputs": [
    {
     "name": "stdout",
     "output_type": "stream",
     "text": [
      "using re.match, the pattern \u001b[1m\u001b[43m\u001b[34mcat\u001b[0m\n",
      "  matches at 0-3 of \u001b[32m\u001b[0m\u001b[1m\u001b[32mcat\u001b[0m\u001b[32mchy\u001b[0m\n",
      "  matches at 0-3 of \u001b[32m\u001b[0m\u001b[1m\u001b[32mcat\u001b[0m\u001b[32m\u001b[0m\n",
      "  does *not* match \u001b[31malley-cat\u001b[0m\n",
      "\n",
      "using re.search, the pattern \u001b[1m\u001b[43m\u001b[34mcat\u001b[0m\n",
      "  matches at 0-3 of \u001b[32m\u001b[0m\u001b[1m\u001b[32mcat\u001b[0m\u001b[32mchy\u001b[0m\n",
      "  matches at 0-3 of \u001b[32m\u001b[0m\u001b[1m\u001b[32mcat\u001b[0m\u001b[32m\u001b[0m\n",
      "  matches at 6-9 of \u001b[32malley-\u001b[0m\u001b[1m\u001b[32mcat\u001b[0m\u001b[32m\u001b[0m\n",
      "\n",
      "using re.fullmatch, the pattern \u001b[1m\u001b[43m\u001b[34mcat\u001b[0m\n",
      "  does *not* match \u001b[31mcatchy\u001b[0m\n",
      "  matches at 0-3 of \u001b[32m\u001b[0m\u001b[1m\u001b[32mcat\u001b[0m\u001b[32m\u001b[0m\n",
      "  does *not* match \u001b[31malley-cat\u001b[0m\n",
      "\n"
     ]
    }
   ],
   "source": [
    "# `match` vs. `search` vs. `fullmatch`\n",
    "# `match` and `search` you know; `fullmatch` must match the entire string\n",
    "demo(r'cat', ['catchy', 'cat', 'alley-cat'], fn=re.match)\n",
    "demo(r'cat', ['catchy', 'cat', 'alley-cat'], fn=re.search)\n",
    "demo(r'cat', ['catchy', 'cat', 'alley-cat'], fn=re.fullmatch)"
   ]
  },
  {
   "cell_type": "markdown",
   "metadata": {},
   "source": [
    "#### match objects\n",
    "\n",
    "Matching functions will return a match object (success) or `None` (failure).  A simple `if` is all you need to test for success.  Save the match object to access some details about the match.  For instance, remember we talked about \"capturing\" groups.  This is where the data in a captured group is saved."
   ]
  },
  {
   "cell_type": "code",
   "execution_count": 18,
   "metadata": {},
   "outputs": [
    {
     "name": "stdout",
     "output_type": "stream",
     "text": [
      "group 1: 867\n",
      "group 2: 5309\n",
      "try a tuple: ('867', '5309')\n"
     ]
    }
   ],
   "source": [
    "match = re.match(r'(\\d{3})-(\\d{4})', '867-5309')\n",
    "if match:\n",
    "    print(f'group 1: {match.group(1)}')\n",
    "    print(f'group 2: {match[2]}')\n",
    "    print(f'try a tuple: {match.group(1, 2)}')"
   ]
  },
  {
   "cell_type": "markdown",
   "metadata": {},
   "source": [
    "* other interesting functions\n",
    "    * `re.escape`\n",
    "    * `match.expand`"
   ]
  },
  {
   "cell_type": "markdown",
   "metadata": {},
   "source": [
    "## tips and tricks\n",
    "\n",
    "* verbose mode\n",
    "* to compile or not\n",
    "* greedy or not\n",
    "* using a function argument in `sub` and `subn`\n",
    "* setting flags within the regex\n",
    "* when to use alternatives (e.g., `os.path`, `glob`, `regex`, `str.startswith`, `in`)"
   ]
  },
  {
   "cell_type": "markdown",
   "metadata": {},
   "source": [
    "## common pitfalls\n",
    "\n",
    "* failure to use a raw string\n",
    "* not understanding `re.MULTILINE`, `re.DOTALL`\n",
    "* mixing `str` with `bytes`"
   ]
  },
  {
   "cell_type": "markdown",
   "metadata": {},
   "source": [
    "## documentation\n",
    "\n",
    "* This presentation: [https://github.com/wolf/re-presentation](https://github.com/wolf/re-presentation)\n",
    "* Online regex tester and debugger [regular expressions 101](https://regex101.com)\n",
    "* [re module documentation](https://docs.python.org/3.7/library/re.html)\n",
    "* third party [regex module homepage](https://bitbucket.org/mrabarnett/mrab-regex)\n",
    "* by Jeffrey Friedl: [\"Mastering Regular Expressions\" First Edition](https://www.amazon.com/Mastering-Regular-Expressions-Techniques-Handbooks/dp/1565922573) (covers Python) [Third Edition](https://www.amazon.com/Mastering-Regular-Expressions-Jeffrey-Friedl/dp/0596528124) (does *not* cover Python)"
   ]
  },
  {
   "cell_type": "code",
   "execution_count": 19,
   "metadata": {},
   "outputs": [],
   "source": [
    "url_pattern_str = r'''\n",
    "    (?P<protocol>  # URL protocol, required and captured\n",
    "      https?       # the 's' in 'https' is optional\n",
    "    )\n",
    "    ://            # required, but not captured\n",
    "    (?P<host>      # host, required _and_ captured\n",
    "      [^/:]+       # ...stops at the first slash or colon\n",
    "    )\n",
    "    (?:            # an optional group for the port\n",
    "      :            # ...so we don't capture the colon\n",
    "      (?P<port>    # optional (because of the containing group), but captured\n",
    "          \\d+      # the port is all digits\n",
    "      )\n",
    "    )?\n",
    "    (?P<path>      # path, optional but captured\n",
    "      /[^?]*       # ...stops at the first question mark\n",
    "    )?\n",
    "    (?:            # an optional group for the query\n",
    "      \\?           # ...so we don't capture the '?' that starts a query\n",
    "      (?P<query>\n",
    "          .+       # everything _after_ the question mark is the query itself\n",
    "      )\n",
    "    )?\n",
    "'''\n",
    "url_pattern = re.compile(url_pattern_str, re.VERBOSE)"
   ]
  },
  {
   "cell_type": "code",
   "execution_count": 20,
   "metadata": {},
   "outputs": [
    {
     "name": "stdout",
     "output_type": "stream",
     "text": [
      "protocol:  https\n",
      "    host:  google.com\n",
      "\n",
      "protocol:  https\n",
      "    host:  google.com\n",
      "    path:  /\n",
      "\n",
      "protocol:  https\n",
      "    host:  www.learninga-z.com\n",
      "    path:  /main/Activity/reading\n",
      "\n",
      "protocol:  http\n",
      "    host:  learninga-z.com\n",
      "    port:  8088\n",
      "    path:  /main/Activity/reading\n",
      "   query:  module=razkids\n",
      "\n",
      "protocol:  https\n",
      "    host:  github.com\n",
      "    path:  /wolf/re-presentation.git\n",
      "\n",
      "protocol:  https\n",
      "    host:  www.amazon.com\n",
      "    path:  /Mastering-Regular-Expressions-Techniques-Handbooks/dp/1565922573\n",
      "\n"
     ]
    }
   ],
   "source": [
    "urls = [\n",
    "    r'https://google.com',\n",
    "    r'https://google.com/',\n",
    "    r'https://www.learninga-z.com/main/Activity/reading',\n",
    "    r'http://learninga-z.com:8088/main/Activity/reading?module=razkids',\n",
    "    r'https://github.com/wolf/re-presentation.git',\n",
    "    r'https://www.amazon.com/Mastering-Regular-Expressions-Techniques-Handbooks/dp/1565922573',\n",
    "]\n",
    "\n",
    "for url in urls:\n",
    "    match = url_pattern.match(url)\n",
    "\n",
    "    for group_name in url_pattern.groupindex.keys():\n",
    "        if match[group_name]:\n",
    "            print(f'{group_name:>8}:  {match[group_name]}')\n",
    "    print()"
   ]
  }
 ],
 "metadata": {
  "kernelspec": {
   "display_name": "Python 3",
   "language": "python",
   "name": "python3"
  },
  "language_info": {
   "codemirror_mode": {
    "name": "ipython",
    "version": 3
   },
   "file_extension": ".py",
   "mimetype": "text/x-python",
   "name": "python",
   "nbconvert_exporter": "python",
   "pygments_lexer": "ipython3",
   "version": "3.6.5"
  }
 },
 "nbformat": 4,
 "nbformat_minor": 2
}
