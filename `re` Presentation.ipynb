{
 "cells": [
  {
   "cell_type": "code",
   "execution_count": 1,
   "metadata": {},
   "outputs": [],
   "source": [
    "import re"
   ]
  },
  {
   "cell_type": "markdown",
   "metadata": {},
   "source": [
    "* regular expressions themselves\n",
    "    * simple characters\n",
    "    * character sets\n",
    "        * inverted sets\n",
    "        * ranges\n",
    "        * shortcuts\n",
    "    * repetition\n",
    "    * alternation\n",
    "    * groups\n",
    "        * non-capturing\n",
    "        * capturing, and capturing with a name\n",
    "        * back-references\n",
    "* the `re` module\n",
    "    * regular expression strings (already discussed)\n",
    "    * compiled patterns\n",
    "        * `match` vs. `search`\n",
    "        * \n",
    "    * strings to be searched\n",
    "    * match objects\n",
    "    * other interesting functions\n",
    "* tips and tricks\n",
    "    * verbose mode\n",
    "    * to compile or not\n",
    "    * greedy or not\n",
    "    * using a function argument in `sub` and `subn`\n",
    "    * setting flags within the regex\n",
    "    * when to use alternatives (e.g., `os.path`, `glob`, `regex`)\n",
    "* real-world examples\n",
    "* common pitfalls\n",
    "    * failure to use a raw string\n",
    "    * not understanding re.MULTILINE, re.DOTALL\n",
    "    * mixing str and bytes\n"
   ]
  },
  {
   "cell_type": "code",
   "execution_count": 2,
   "metadata": {},
   "outputs": [],
   "source": [
    "url_pattern_str = r'''(?P<protocol>    # URL protocol, required and captured\n",
    "                          https?       # the 's' in 'https' is optional\n",
    "                      )\n",
    "                      ://              # required, but not captured\n",
    "                      (?P<host>        # host, required _and_ captured\n",
    "                          [^/:]+       # ...stops at the first slash or colon\n",
    "                      )\n",
    "                      (?:              # an optional group for the port\n",
    "                          :            # ...so we don't capture the colon\n",
    "                          (?P<port>    # optional (because of the containing group), but captured\n",
    "                              \\d+      # the port is all digits\n",
    "                          )\n",
    "                      )?\n",
    "                      (?P<path>        # path, optional but captured\n",
    "                          /[^?]*       # ...stops at the first question mark\n",
    "                      )?\n",
    "                      (?:              # an optional group for the query\n",
    "                          \\?           # ...so we don't capture the '?' that queries start with\n",
    "                          (?P<query>\n",
    "                              .+       # everything _after_ the question mark is the query\n",
    "                          )\n",
    "                      )?\n",
    "                   '''\n",
    "url_pattern = re.compile(url_pattern_str, re.VERBOSE)"
   ]
  },
  {
   "cell_type": "code",
   "execution_count": 4,
   "metadata": {},
   "outputs": [
    {
     "name": "stdout",
     "output_type": "stream",
     "text": [
      "protocol:  https\n",
      "    host:  google.com\n",
      "\n",
      "protocol:  https\n",
      "    host:  google.com\n",
      "    path:  /\n",
      "\n",
      "protocol:  https\n",
      "    host:  www.learninga-z.com\n",
      "    path:  /main/Activity/reading\n",
      "\n",
      "protocol:  http\n",
      "    host:  learninga-z.com\n",
      "    port:  8088\n",
      "    path:  /main/Activity/reading\n",
      "   query:  module=razkids\n",
      "\n",
      "protocol:  https\n",
      "    host:  git.zv.cx\n",
      "    path:  /wolf/re-presentation.git\n",
      "\n"
     ]
    }
   ],
   "source": [
    "urls = [\n",
    "    r'https://google.com',\n",
    "    r'https://google.com/',\n",
    "    r'https://www.learninga-z.com/main/Activity/reading',\n",
    "    r'http://learninga-z.com:8088/main/Activity/reading?module=razkids',\n",
    "    r'https://git.zv.cx/wolf/re-presentation.git',\n",
    "]\n",
    "\n",
    "for url in urls:\n",
    "    match = url_pattern.match(url)\n",
    "\n",
    "    for group_name in url_pattern.groupindex.keys():\n",
    "        if match[group_name]:\n",
    "            print(f\"{group_name:>8}:  {match[group_name]}\")\n",
    "    print()"
   ]
  },
  {
   "cell_type": "code",
   "execution_count": null,
   "metadata": {},
   "outputs": [],
   "source": []
  }
 ],
 "metadata": {
  "kernelspec": {
   "display_name": "Python 3",
   "language": "python",
   "name": "python3"
  },
  "language_info": {
   "codemirror_mode": {
    "name": "ipython",
    "version": 3
   },
   "file_extension": ".py",
   "mimetype": "text/x-python",
   "name": "python",
   "nbconvert_exporter": "python",
   "pygments_lexer": "ipython3",
   "version": "3.6.5"
  }
 },
 "nbformat": 4,
 "nbformat_minor": 2
}
