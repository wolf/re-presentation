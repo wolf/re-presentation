{
 "cells": [
  {
   "cell_type": "code",
   "execution_count": 1,
   "metadata": {},
   "outputs": [],
   "source": [
    "import re"
   ]
  },
  {
   "cell_type": "markdown",
   "metadata": {},
   "source": [
    "## regular expressions themselves\n",
    "\n",
    "### what is a regular expression?\n",
    "\n",
    "It's a formal description of a set of strings and a well-known collection of rules to know if any given string is *in* that set.  If a string is in the set, the regular expression is said to *match* that string.  The formal description is often referred to as the *pattern*.  The `re` module has a function to test if a regular expression matches a string: `re.match(pattern, string)`."
   ]
  },
  {
   "cell_type": "code",
   "execution_count": 2,
   "metadata": {},
   "outputs": [],
   "source": [
    "def demo_re_match(pattern, match_against, show_location=False):\n",
    "    \"\"\"demo_re_match is built around re.match, but applied to a list of strings\n",
    "       instead of a single string; and it prints a message for each, appropriate\n",
    "       to a demonstration.\n",
    "    \"\"\"\n",
    "    compiled_pattern = re.compile(pattern)  # don't really need to do this, but it's good form\n",
    "    if isinstance(match_against, str):  # OK, it takes a list, but if you give it a single string it still works\n",
    "        match_against = [ match_against ]\n",
    "\n",
    "    print(f'The pattern \"{pattern}\"...')\n",
    "    for string in match_against:\n",
    "        match = re.match(pattern=compiled_pattern, string=string)\n",
    "        if match:\n",
    "            location_info = ''\n",
    "            if show_location:\n",
    "                r = match.span()\n",
    "                location_info = f'at {r[0]}-{r[1]} of '\n",
    "            print(f'  ...matches {location_info}\"{string}\"')\n",
    "        else:\n",
    "            print(f'  ...does *not* match \"{string}\"')\n",
    "    print()"
   ]
  },
  {
   "cell_type": "markdown",
   "metadata": {},
   "source": [
    "As we progress, the patterns will look more and more complicated.  Don't be intimidated!"
   ]
  },
  {
   "cell_type": "code",
   "execution_count": 3,
   "metadata": {},
   "outputs": [
    {
     "name": "stdout",
     "output_type": "stream",
     "text": [
      "The pattern \"cat\" matches the string \"cat\"\n",
      "The pattern \"cat\"...\n",
      "  ...does *not* match \"dog\"\n",
      "\n"
     ]
    }
   ],
   "source": [
    "# Simple characters like 'c', 'a', or 't', match themselves\n",
    "# Note that I specified the pattern as a raw string... make that a habit for yourself\n",
    "if re.match(pattern=r'cat', string='cat'):\n",
    "    print('The pattern \"cat\" matches the string \"cat\"')\n",
    "\n",
    "demo_re_match(pattern=r'cat', match_against='dog')"
   ]
  },
  {
   "cell_type": "markdown",
   "metadata": {},
   "source": [
    "`re.match` actually only tests that the string *starts* with a match."
   ]
  },
  {
   "cell_type": "code",
   "execution_count": 4,
   "metadata": {},
   "outputs": [
    {
     "name": "stdout",
     "output_type": "stream",
     "text": [
      "The pattern \"cat\"...\n",
      "  ...matches \"catch\"\n",
      "\n"
     ]
    }
   ],
   "source": [
    "demo_re_match(pattern=r'cat', match_against='catch')"
   ]
  },
  {
   "cell_type": "markdown",
   "metadata": {},
   "source": [
    "#### character sets "
   ]
  },
  {
   "cell_type": "code",
   "execution_count": 6,
   "metadata": {},
   "outputs": [
    {
     "name": "stdout",
     "output_type": "stream",
     "text": [
      "The pattern \"c[aou]t\"...\n",
      "  ...matches \"cat\"\n",
      "  ...matches \"cote\"\n",
      "  ...matches \"cute\"\n",
      "  ...does *not* match \"city\"\n",
      "\n"
     ]
    }
   ],
   "source": [
    "# Using a simple set: [aou]\n",
    "demo_re_match(pattern=r'c[aou]t', match_against=['cat', 'cote', 'cute', 'city'])"
   ]
  },
  {
   "cell_type": "code",
   "execution_count": 7,
   "metadata": {},
   "outputs": [
    {
     "name": "stdout",
     "output_type": "stream",
     "text": [
      "The pattern \"c[^y]t\"...\n",
      "  ...matches \"cat\"\n",
      "  ...matches \"cote\"\n",
      "  ...does *not* match \"cytoplasm\"\n",
      "  ...matches \"cctv\"\n",
      "\n"
     ]
    }
   ],
   "source": [
    "# Inverting a set: [^y]\n",
    "demo_re_match(r'c[^y]t', ['cat', 'cote', 'cytoplasm', 'cctv'])"
   ]
  },
  {
   "cell_type": "code",
   "execution_count": 8,
   "metadata": {},
   "outputs": [
    {
     "name": "stdout",
     "output_type": "stream",
     "text": [
      "The pattern \"0x[a-f0-9]\"...\n",
      "  ...matches \"0x2\"\n",
      "  ...matches \"0xc\"\n",
      "  ...does *not* match \"0xq\"\n",
      "\n"
     ]
    }
   ],
   "source": [
    "# Using ranges: [a-f0-9]\n",
    "demo_re_match(r'0x[a-f0-9]', ['0x2', '0xc', '0xq'])"
   ]
  },
  {
   "cell_type": "code",
   "execution_count": 9,
   "metadata": {},
   "outputs": [
    {
     "name": "stdout",
     "output_type": "stream",
     "text": [
      "The pattern \"\\d\\d\\d-\\d\\d\\d\\d\"...\n",
      "  ...does *not* match \"555-12q2\"\n",
      "  ...does *not* match \"411\"\n",
      "  ...matches \"867-5309\"\n",
      "\n"
     ]
    }
   ],
   "source": [
    "# Using shortcut: \\d == [0-9]\n",
    "demo_re_match(r'\\d\\d\\d-\\d\\d\\d\\d', ['555-12q2', '411', '867-5309'])"
   ]
  },
  {
   "cell_type": "markdown",
   "metadata": {},
   "source": [
    "#### repetition"
   ]
  },
  {
   "cell_type": "code",
   "execution_count": 10,
   "metadata": {},
   "outputs": [
    {
     "name": "stdout",
     "output_type": "stream",
     "text": [
      "The pattern \"\\d{3}-\\d{4}\"...\n",
      "  ...does *not* match \"555-12q2\"\n",
      "  ...does *not* match \"411\"\n",
      "  ...matches \"867-5309\"\n",
      "\n",
      "The pattern \"=\\w{3,5}=\"...\n",
      "  ...matches \"=cat=\"\n",
      "  ...matches \"=catch=\"\n",
      "  ...matches \"=dogs=\"\n",
      "  ...does *not* match \"=catchy=\"\n",
      "  ...does *not* match \"=my=\"\n",
      "\n"
     ]
    }
   ],
   "source": [
    "# {min, max}, note that \\w == [a-zA-Z0-9_] (at least for ASCII)\n",
    "demo_re_match(r'\\d{3}-\\d{4}', ['555-12q2', '411', '867-5309'])\n",
    "demo_re_match(r'=\\w{3,5}=', ['=cat=', '=catch=', '=dogs=', '=catchy=', '=my='])"
   ]
  },
  {
   "cell_type": "code",
   "execution_count": 11,
   "metadata": {},
   "outputs": [
    {
     "name": "stdout",
     "output_type": "stream",
     "text": [
      "The pattern \"\\d+\\s*-?\\s*\\d*\"...\n",
      "  ...matches \"555-\t1212\"\n",
      "  ...matches \"411\"\n",
      "\n"
     ]
    }
   ],
   "source": [
    "# ?, +, *\n",
    "# ? == {0,1}, + == {1,}, * == {0,}\n",
    "demo_re_match(r'\\d+\\s*-?\\s*\\d*', ['555-\\t1212', '411'])"
   ]
  },
  {
   "cell_type": "markdown",
   "metadata": {},
   "source": [
    "#### alternation"
   ]
  },
  {
   "cell_type": "code",
   "execution_count": 12,
   "metadata": {},
   "outputs": [
    {
     "name": "stdout",
     "output_type": "stream",
     "text": [
      "The pattern \"cat|dog\"...\n",
      "  ...matches \"catchy\"\n",
      "  ...matches \"dog-lover\"\n",
      "  ...does *not* match \"apple pie\"\n",
      "\n"
     ]
    }
   ],
   "source": [
    "# binds lower than other operators, so cat|dog does what it looks like\n",
    "demo_re_match(r'cat|dog', ['catchy', 'dog-lover', 'apple pie'])"
   ]
  },
  {
   "cell_type": "markdown",
   "metadata": {},
   "source": [
    "#### groups"
   ]
  },
  {
   "cell_type": "code",
   "execution_count": 13,
   "metadata": {},
   "outputs": [
    {
     "name": "stdout",
     "output_type": "stream",
     "text": [
      "The pattern \"\\d{3}(-\\d{4})?\"...\n",
      "  ...matches \"555-1212\"\n",
      "  ...matches \"411\"\n",
      "\n"
     ]
    }
   ],
   "source": [
    "# the default kind of group (capturing)\n",
    "demo_re_match(r'\\d{3}(-\\d{4})?', ['555-1212', '411'])"
   ]
  },
  {
   "cell_type": "code",
   "execution_count": 14,
   "metadata": {},
   "outputs": [
    {
     "name": "stdout",
     "output_type": "stream",
     "text": [
      "The pattern \"(?x)  # verbose mode\n",
      "    \\d{3}               # prefix\n",
      "    ( - \\d{4} )?        # optional\"...\n",
      "  ...matches \"555-1212\"\n",
      "  ...matches \"411\"\n",
      "\n"
     ]
    }
   ],
   "source": [
    "# special groups start with a '?' just inside the left paren\n",
    "# this one sets the verbose flag\n",
    "demo_re_match(r'''(?x)  # verbose mode\n",
    "    \\d{3}               # prefix\n",
    "    ( - \\d{4} )?        # optional''', ['555-1212', '411'])"
   ]
  },
  {
   "cell_type": "code",
   "execution_count": 15,
   "metadata": {},
   "outputs": [
    {
     "name": "stdout",
     "output_type": "stream",
     "text": [
      "The pattern \"(?i)abcXYZ\"...\n",
      "  ...matches \"abcxyz\"\n",
      "  ...matches \"AbCXYz\"\n",
      "\n",
      "The pattern \"(?i:abc)XYZ\"...\n",
      "  ...does *not* match \"abcxyz\"\n",
      "  ...matches \"abcXYZ\"\n",
      "  ...matches \"ABCXYZ\"\n",
      "\n"
     ]
    }
   ],
   "source": [
    "# setting flags for the whole pattern, for just a portion of the pattern\n",
    "demo_re_match(r'(?i)abcXYZ', ['abcxyz', 'AbCXYz'])\n",
    "demo_re_match(r'(?i:abc)XYZ', ['abcxyz', 'abcXYZ', 'ABCXYZ'])"
   ]
  },
  {
   "cell_type": "code",
   "execution_count": 16,
   "metadata": {},
   "outputs": [
    {
     "name": "stdout",
     "output_type": "stream",
     "text": [
      "The pattern \"Isaac(?=\\s+Asimov)\"...\n",
      "  ...does *not* match \"Isaac Newton\"\n",
      "  ...matches at 0-5 of \"Isaac Asimov\"\n",
      "\n",
      "The pattern \"Isaac(?!\\s+Newton)\"...\n",
      "  ...does *not* match \"Isaac Newton\"\n",
      "  ...matches at 0-5 of \"Isaac Asimov\"\n",
      "\n"
     ]
    }
   ],
   "source": [
    "# assertions\n",
    "demo_re_match(r'Isaac(?=\\s+Asimov)', ['Isaac Newton', 'Isaac Asimov'], show_location=True)\n",
    "demo_re_match(r'Isaac(?!\\s+Newton)', ['Isaac Newton', 'Isaac Asimov'], show_location=True)"
   ]
  },
  {
   "cell_type": "markdown",
   "metadata": {},
   "source": [
    "#### special matches\n",
    "* beginning or end of the string (zero-length)\n",
    "* word characters or not\n",
    "* beginning or end of a word, or not (zero-length)\n",
    "* whitespace or not\n",
    "* digit or not"
   ]
  },
  {
   "cell_type": "markdown",
   "metadata": {},
   "source": [
    "## the `re` module\n",
    "\n",
    "* regular expression strings (already discussed)\n",
    "* strings to be searched\n",
    "* compiled patterns\n",
    "    * `re.compile`\n",
    "    * `match` vs. `search` vs. `fullmatch`\n",
    "* re module parallels compiled pattern functions\n",
    "    * `search`, `match`, `fullmatch`\n",
    "    * `split`\n",
    "    * `findall`, `finditer`\n",
    "    * `sub`, `subn`\n",
    "    * `re` versions take pattern *or* pattern-string + flags; pattern versions take string indeces\n",
    "* match objects\n",
    "    * testing for success\n",
    "    * accessing captured groups\n",
    "* other interesting functions\n",
    "    * `re.escape`\n",
    "    * `match.expand`"
   ]
  },
  {
   "cell_type": "markdown",
   "metadata": {},
   "source": [
    "## tips and tricks\n",
    "\n",
    "* verbose mode\n",
    "* to compile or not\n",
    "* greedy or not\n",
    "* using a function argument in `sub` and `subn`\n",
    "* setting flags within the regex\n",
    "* when to use alternatives (e.g., `os.path`, `glob`, `regex`, `str.startswith`)"
   ]
  },
  {
   "cell_type": "markdown",
   "metadata": {},
   "source": [
    "## common pitfalls\n",
    "\n",
    "* failure to use a raw string\n",
    "* not understanding `re.MULTILINE`, `re.DOTALL`\n",
    "* mixing `str` with `bytes`"
   ]
  },
  {
   "cell_type": "markdown",
   "metadata": {},
   "source": [
    "## documentation\n",
    "\n",
    "* This presentation: [https://github.com/wolf/re-presentation](https://github.com/wolf/re-presentation)\n",
    "* Online regex tester and debugger [regular expressions 101](https://regex101.com)\n",
    "* [re](https://docs.python.org/3.7/library/re.html)\n",
    "* [regex](https://bitbucket.org/mrabarnett/mrab-regex)\n",
    "* by Jeffrey Friedl: [\"Mastering Regular Expressions\" First Edition](https://www.amazon.com/Mastering-Regular-Expressions-Techniques-Handbooks/dp/1565922573) (covers Python) [Third Edition](https://www.amazon.com/Mastering-Regular-Expressions-Jeffrey-Friedl/dp/0596528124) (does *not* cover Python)"
   ]
  },
  {
   "cell_type": "code",
   "execution_count": 17,
   "metadata": {},
   "outputs": [],
   "source": [
    "url_pattern_str = r'''\n",
    "    (?P<protocol>  # URL protocol, required and captured\n",
    "      https?       # the 's' in 'https' is optional\n",
    "    )\n",
    "    ://            # required, but not captured\n",
    "    (?P<host>      # host, required _and_ captured\n",
    "      [^/:]+       # ...stops at the first slash or colon\n",
    "    )\n",
    "    (?:            # an optional group for the port\n",
    "      :            # ...so we don't capture the colon\n",
    "      (?P<port>    # optional (because of the containing group), but captured\n",
    "          \\d+      # the port is all digits\n",
    "      )\n",
    "    )?\n",
    "    (?P<path>      # path, optional but captured\n",
    "      /[^?]*       # ...stops at the first question mark\n",
    "    )?\n",
    "    (?:            # an optional group for the query\n",
    "      \\?           # ...so we don't capture the '?' that queries start with\n",
    "      (?P<query>\n",
    "          .+       # everything _after_ the question mark is the query\n",
    "      )\n",
    "    )?\n",
    "'''\n",
    "url_pattern = re.compile(url_pattern_str, re.VERBOSE)"
   ]
  },
  {
   "cell_type": "code",
   "execution_count": 18,
   "metadata": {},
   "outputs": [
    {
     "name": "stdout",
     "output_type": "stream",
     "text": [
      "protocol:  https\n",
      "    host:  google.com\n",
      "\n",
      "protocol:  https\n",
      "    host:  google.com\n",
      "    path:  /\n",
      "\n",
      "protocol:  https\n",
      "    host:  www.learninga-z.com\n",
      "    path:  /main/Activity/reading\n",
      "\n",
      "protocol:  http\n",
      "    host:  learninga-z.com\n",
      "    port:  8088\n",
      "    path:  /main/Activity/reading\n",
      "   query:  module=razkids\n",
      "\n",
      "protocol:  https\n",
      "    host:  github.com\n",
      "    path:  /wolf/re-presentation.git\n",
      "\n",
      "protocol:  https\n",
      "    host:  www.amazon.com\n",
      "    path:  /Mastering-Regular-Expressions-Techniques-Handbooks/dp/1565922573\n",
      "\n"
     ]
    }
   ],
   "source": [
    "urls = [\n",
    "    r'https://google.com',\n",
    "    r'https://google.com/',\n",
    "    r'https://www.learninga-z.com/main/Activity/reading',\n",
    "    r'http://learninga-z.com:8088/main/Activity/reading?module=razkids',\n",
    "    r'https://github.com/wolf/re-presentation.git',\n",
    "    r'https://www.amazon.com/Mastering-Regular-Expressions-Techniques-Handbooks/dp/1565922573',\n",
    "]\n",
    "\n",
    "for url in urls:\n",
    "    match = url_pattern.match(url)\n",
    "\n",
    "    for group_name in url_pattern.groupindex.keys():\n",
    "        if match[group_name]:\n",
    "            print(f\"{group_name:>8}:  {match[group_name]}\")\n",
    "    print()"
   ]
  }
 ],
 "metadata": {
  "kernelspec": {
   "display_name": "Python 3",
   "language": "python",
   "name": "python3"
  },
  "language_info": {
   "codemirror_mode": {
    "name": "ipython",
    "version": 3
   },
   "file_extension": ".py",
   "mimetype": "text/x-python",
   "name": "python",
   "nbconvert_exporter": "python",
   "pygments_lexer": "ipython3",
   "version": "3.6.5"
  }
 },
 "nbformat": 4,
 "nbformat_minor": 2
}
